{
 "cells": [
  {
   "cell_type": "code",
   "execution_count": 4,
   "metadata": {},
   "outputs": [
    {
     "name": "stdout",
     "output_type": "stream",
     "text": [
      "[1587, 1407, 1717, 1596, 1566, 1752, 1925, 1847, 1716, 1726, 1611, 1628, 1853, 1864, 1831, 1942, 1634, 1964, 1603, 1676, 1256, 1906, 1655, 1790, 1666, 1470, 1540, 1544, 1100, 1447, 1384, 1464, 1651, 1572, 907, 1653, 1265, 1510, 1639, 1818, 376, 1378, 1132, 1750, 1491, 1788, 1882, 1779, 1640, 1586, 1525, 1458, 1994, 1782, 1412, 1033, 1416, 1813, 1520, 1968, 715, 1396, 1745, 1506, 1024, 1798, 1870, 1615, 1957, 1718, 1349, 1983, 1387, 1738, 1588, 1321, 1160, 1907, 1861, 1940, 1475, 2004, 1852, 1760, 1608, 1028, 1820, 1495, 1811, 1737, 1417, 1316, 1087, 1803, 1595, 1346, 1971, 1692, 1678, 1330, 1480, 1097, 1898, 1973, 1567, 1733, 1336, 1381, 1327, 1670, 1436, 1989, 1334, 89, 1862, 1715, 1743, 1967, 1765, 1402, 1729, 1749, 1671, 1196, 1650, 1089, 1814, 1783, 1225, 1823, 1746, 2009, 1886, 1748, 1481, 1739, 1912, 1663, 1668, 1314, 1594, 705, 1449, 1731, 1487, 1648, 1466, 1317, 1979, 1799, 1926, 1703, 1656, 1978, 2005, 1865, 1982, 1951, 1892, 1713, 1744, 1598, 1606, 1583, 1895, 1804, 1430, 1816, 1364, 1575, 1918, 1431, 1812, 1471, 1797, 928, 1934, 1156, 94, 1563, 1909, 1453, 1392, 1427, 1819, 1524, 1695, 1866, 2008, 1413, 1698, 1051, 1707, 1904, 1681, 1541, 1621, 1421, 1809, 1576]\n"
     ]
    }
   ],
   "source": [
    "# read data and put add it to a list\n",
    "\n",
    "numbers = []\n",
    "with open(\"input_day1\") as f:\n",
    "    numbers = list(map(int, f.readlines()))  \n",
    "print(numbers)\n"
   ]
  },
  {
   "cell_type": "code",
   "execution_count": 5,
   "metadata": {},
   "outputs": [
    {
     "name": "stdout",
     "output_type": "stream",
     "text": [
      "181044\n",
      "181044\n"
     ]
    }
   ],
   "source": [
    "# part 1: find 2 enterys that sum to up to 2020\n",
    "def account(number):\n",
    "    for i in numbers:\n",
    "        for j in numbers:\n",
    "            if i + j == 2020 and i != j:\n",
    "                return(i * j) \n",
    "\n",
    "def account2(number):\n",
    "    return [i * j for i in numbers for j in numbers if i + j == 2020][0]\n",
    "print(account2(numbers))    \n",
    "print(account(numbers))        \n",
    "        "
   ]
  },
  {
   "cell_type": "code",
   "execution_count": null,
   "metadata": {},
   "outputs": [],
   "source": []
  },
  {
   "cell_type": "code",
   "execution_count": 6,
   "metadata": {},
   "outputs": [
    {
     "name": "stdout",
     "output_type": "stream",
     "text": [
      "82660352\n"
     ]
    }
   ],
   "source": [
    "# part 2: find 3 enterys that sum to up to 2020 and multiply\n",
    "def account(number):\n",
    "    for i in numbers:\n",
    "        for j in numbers:\n",
    "            for k in numbers:\n",
    "                if i + j + k == 2020 and i != j and i != k and j!=k:\n",
    "                    return(i * j * k) \n",
    "print(account(numbers))  "
   ]
  },
  {
   "cell_type": "code",
   "execution_count": null,
   "metadata": {},
   "outputs": [],
   "source": []
  }
 ],
 "metadata": {
  "kernelspec": {
   "display_name": "Python 3.8.8 ('base')",
   "language": "python",
   "name": "python3"
  },
  "language_info": {
   "codemirror_mode": {
    "name": "ipython",
    "version": 3
   },
   "file_extension": ".py",
   "mimetype": "text/x-python",
   "name": "python",
   "nbconvert_exporter": "python",
   "pygments_lexer": "ipython3",
   "version": "3.8.8"
  },
  "orig_nbformat": 4,
  "vscode": {
   "interpreter": {
    "hash": "ac487868ec6f1a057d0198a4218906d033f5249dd10b04ce45895ac7f11b9e95"
   }
  }
 },
 "nbformat": 4,
 "nbformat_minor": 2
}
