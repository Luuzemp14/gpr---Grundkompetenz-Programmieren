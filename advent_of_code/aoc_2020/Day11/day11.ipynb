{
 "cells": [
  {
   "attachments": {},
   "cell_type": "markdown",
   "metadata": {},
   "source": [
    "# Day11 Part 1"
   ]
  },
  {
   "cell_type": "code",
   "execution_count": 19,
   "metadata": {},
   "outputs": [],
   "source": [
    "# Notizen:\n",
    "# 1. Sitz ist leer und kein Nachbar sitzt besetzt --> dann wird der sitz besetzt\n",
    "# 2. Sitz ist besetzt und 4 oder Mehr Nachbar Sitze sind besetzt --> dann wird der Sitz frei\n",
    "# Ansonsten --> der Sitz bleib so wie er ist.\n",
    "\n",
    "# \".\" = Boden, \"#\" = besetzt, \"L\" = Frei"
   ]
  },
  {
   "cell_type": "code",
   "execution_count": 6,
   "metadata": {},
   "outputs": [
    {
     "name": "stdout",
     "output_type": "stream",
     "text": [
      "['L', 'L', 'L', 'L', 'L', 'L', '.', 'L', 'L', 'L', 'L', '.', '.', 'L', 'L', 'L', 'L', 'L', 'L', '.', 'L', 'L', 'L', 'L', 'L', 'L', 'L', 'L', 'L', 'L', 'L', 'L', 'L', 'L', 'L', 'L', 'L', 'L', 'L', 'L', 'L', '.', 'L', 'L', 'L', 'L', 'L', 'L', '.', 'L', 'L', 'L', 'L', 'L', 'L', 'L', 'L', '.', 'L', 'L', 'L', 'L', 'L', '.', 'L', 'L', 'L', 'L', 'L', 'L', '.', 'L', '.', 'L', 'L', '.', 'L', 'L', 'L', 'L', 'L', 'L', '.', 'L', 'L', 'L', 'L', 'L', 'L', 'L', 'L', 'L', 'L', 'L', 'L', 'L', 'L', 'L', 'L']\n"
     ]
    }
   ],
   "source": [
    "# Datei Einlesen\n",
    "with open (\"input_day11.txt\") as f:\n",
    "    data = f.readlines()\n",
    "    data = [list(line.strip()) for line in data]\n",
    "print(data[0])"
   ]
  },
  {
   "cell_type": "code",
   "execution_count": 7,
   "metadata": {},
   "outputs": [],
   "source": [
    "# get the number of occupied seats\n",
    "\n",
    "def get_num_occupied():\n",
    "    occupied = 0\n",
    "    for i in range(len(data)):\n",
    "        for j in range(len(data[i])):\n",
    "            if data[i][j] == \"#\":\n",
    "                occupied += 1\n",
    "    return occupied"
   ]
  },
  {
   "cell_type": "code",
   "execution_count": 8,
   "metadata": {},
   "outputs": [],
   "source": [
    "def get_adjectent_count(row, col):\n",
    "    \n",
    "    cnt = 0\n",
    "    current_row = data[row]\n",
    "\n",
    "    # check if left is occupied\n",
    "    if col-1 >= 0:\n",
    "        if current_row[col-1] == \"#\": \n",
    "            cnt += 1\n",
    "    \n",
    "    # check if right is occupied\n",
    "    if col+1 <= len(current_row)-1:\n",
    "        if current_row[col+1] == \"#\":\n",
    "            cnt += 1\n",
    "    \n",
    "    # check if above is occupied\n",
    "    if row-1 >= 0:\n",
    "        row_above = data[row-1]\n",
    "        if row_above[col] == \"#\":\n",
    "            cnt += 1\n",
    "        if col-1 >= 0:\n",
    "                if row_above[col-1] == \"#\":\n",
    "                    cnt += 1\n",
    "        if col + 1 <= len(row_above)-1:\n",
    "            if row_above[col+1] == \"#\":\n",
    "                cnt += 1\n",
    "    \n",
    "\n",
    "    # check if below is occupied\n",
    "    if row+1 <= len(data)-1:\n",
    "        row_below = data[row+1]\n",
    "        if row_below[col] == \"#\":\n",
    "            cnt += 1\n",
    "\n",
    "        if col-1 >= 0:\n",
    "            if row_below[col-1] == \"#\":\n",
    "                cnt += 1\n",
    "\n",
    "        if col+1 <= len(row_below)-1:\n",
    "            if row_below[col+1] == \"#\":\n",
    "                cnt += 1\n",
    "    return cnt\n"
   ]
  },
  {
   "cell_type": "code",
   "execution_count": 9,
   "metadata": {},
   "outputs": [],
   "source": [
    "# run the rules\n",
    "\n",
    "def run_rules():\n",
    "    new_seating = []\n",
    "\n",
    "    for row in range(len(data)):\n",
    "        current_row = data[row] \n",
    "        new_row = []\n",
    "        \n",
    "        for col in range(len(current_row)):\n",
    "           \n",
    "            if current_row[col] == \".\":\n",
    "                new_row.append(\".\")\n",
    "\n",
    "            else:\n",
    "                adjectent_count = get_adjectent_count(row, col)\n",
    "                \n",
    "                if current_row[col] == \"L\" and adjectent_count == 0:\n",
    "                    new_row.append(\"#\")\n",
    "                elif current_row[col] == \"#\" and adjectent_count >= 4: \n",
    "                    new_row.append(\"L\")\n",
    "                else:\n",
    "                    new_row.append(current_row[col])\n",
    "        new_seating.append(new_row)\n",
    "\n",
    "    for i in range(len(data)):\n",
    "        data[i] = new_seating[i]\n",
    "    "
   ]
  },
  {
   "cell_type": "code",
   "execution_count": 10,
   "metadata": {},
   "outputs": [
    {
     "name": "stdout",
     "output_type": "stream",
     "text": [
      "2324\n"
     ]
    }
   ],
   "source": [
    "def get_final_count():\n",
    "    prev = data.copy()\n",
    "    run_rules()\n",
    "\n",
    "    while data != prev:\n",
    "        prev = data.copy()\n",
    "        run_rules()\n",
    "\n",
    "    return get_num_occupied()\n",
    "print(get_final_count())"
   ]
  },
  {
   "attachments": {},
   "cell_type": "markdown",
   "metadata": {},
   "source": [
    "# Day 11 - Part 2"
   ]
  },
  {
   "cell_type": "code",
   "execution_count": 25,
   "metadata": {},
   "outputs": [],
   "source": [
    "# Notizen:\n",
    "# 1. Sitz ist leer und kein Nachbar sitzt besetzt --> dann wird der sitz besetzt\n",
    "# 2. Sitz ist besetzt und 5 oder Mehr Nachbar Sitze sind besetzt --> dann wird der Sitz frei\n",
    "# Ansonsten --> der Sitz bleib so wie er ist.\n",
    "\n",
    "# \".\" = Boden, \"#\" = besetzt, \"L\" = Frei"
   ]
  },
  {
   "cell_type": "code",
   "execution_count": 11,
   "metadata": {},
   "outputs": [],
   "source": [
    "# get the number of occupied seats\n",
    "\n",
    "def get_num_occupied_seats():\n",
    "    occupied = 0\n",
    "\n",
    "    for i in range(len(data)):\n",
    "        for j in range(len(data[i])):\n",
    "            if data[i][j] == \"#\":\n",
    "                occupied += 1\n",
    "                \n",
    "    return occupied"
   ]
  },
  {
   "cell_type": "code",
   "execution_count": 16,
   "metadata": {},
   "outputs": [
    {
     "ename": "IndexError",
     "evalue": "list index out of range",
     "output_type": "error",
     "traceback": [
      "\u001b[0;31m---------------------------------------------------------------------------\u001b[0m",
      "\u001b[0;31mIndexError\u001b[0m                                Traceback (most recent call last)",
      "\u001b[0;32m<ipython-input-16-ed24a942356c>\u001b[0m in \u001b[0;36m<module>\u001b[0;34m\u001b[0m\n\u001b[1;32m    102\u001b[0m     \u001b[0;32mreturn\u001b[0m \u001b[0mcount\u001b[0m\u001b[0;34m\u001b[0m\u001b[0;34m\u001b[0m\u001b[0m\n\u001b[1;32m    103\u001b[0m \u001b[0;34m\u001b[0m\u001b[0m\n\u001b[0;32m--> 104\u001b[0;31m \u001b[0mget_view\u001b[0m\u001b[0;34m(\u001b[0m\u001b[0;34m)\u001b[0m\u001b[0;34m\u001b[0m\u001b[0;34m\u001b[0m\u001b[0m\n\u001b[0m",
      "\u001b[0;32m<ipython-input-16-ed24a942356c>\u001b[0m in \u001b[0;36mget_view\u001b[0;34m()\u001b[0m\n\u001b[1;32m     15\u001b[0m         \u001b[0;31m# check north\u001b[0m\u001b[0;34m\u001b[0m\u001b[0;34m\u001b[0m\u001b[0;34m\u001b[0m\u001b[0m\n\u001b[1;32m     16\u001b[0m         \u001b[0;32mif\u001b[0m \u001b[0;32mnot\u001b[0m \u001b[0mN\u001b[0m \u001b[0;32mand\u001b[0m \u001b[0miup\u001b[0m \u001b[0;34m>=\u001b[0m \u001b[0;36m0\u001b[0m\u001b[0;34m:\u001b[0m\u001b[0;34m\u001b[0m\u001b[0;34m\u001b[0m\u001b[0m\n\u001b[0;32m---> 17\u001b[0;31m             \u001b[0;32mif\u001b[0m \u001b[0mdata\u001b[0m\u001b[0;34m[\u001b[0m\u001b[0miup\u001b[0m\u001b[0;34m]\u001b[0m\u001b[0;34m[\u001b[0m\u001b[0mcol\u001b[0m\u001b[0;34m]\u001b[0m \u001b[0;34m==\u001b[0m \u001b[0;34m\"#\"\u001b[0m\u001b[0;34m:\u001b[0m\u001b[0;34m\u001b[0m\u001b[0;34m\u001b[0m\u001b[0m\n\u001b[0m\u001b[1;32m     18\u001b[0m                 \u001b[0mcnt\u001b[0m \u001b[0;34m+=\u001b[0m \u001b[0;36m1\u001b[0m\u001b[0;34m\u001b[0m\u001b[0;34m\u001b[0m\u001b[0m\n\u001b[1;32m     19\u001b[0m                 \u001b[0mN\u001b[0m \u001b[0;34m=\u001b[0m \u001b[0;32mTrue\u001b[0m\u001b[0;34m\u001b[0m\u001b[0;34m\u001b[0m\u001b[0m\n",
      "\u001b[0;31mIndexError\u001b[0m: list index out of range"
     ]
    }
   ],
   "source": [
    "# get the visible seats\n",
    "\n",
    "def get_view():\n",
    "    cnt = 0\n",
    "    row = len(data[0])\n",
    "    col = len(data)-1\n",
    "    # i is for row, j is for col\n",
    "    iup, idown, jleft, jright = row-1, row+1, col-1, col+1\n",
    "    \n",
    "    # north, south, east, west, etc. \n",
    "    N, S, E, W, NE, SE, NW, SW = False, False, False, False, False, False, False, False\n",
    "\n",
    "    while not (N and S and E and W and NE and SE and NW and SW):\n",
    "\n",
    "        # check north\n",
    "        if not N and iup >= 0:\n",
    "            if data[iup][col] == \"#\": \n",
    "                cnt += 1\n",
    "                N = True\n",
    "            elif data[iup][col] == \"L\":\n",
    "                N = True\n",
    "        else: \n",
    "            N = True       \n",
    "\n",
    "        # check south\n",
    "        if not S and idown <= len(data)-1:\n",
    "            if data[idown][col] == \"#\":\n",
    "                cnt += 1\n",
    "                S = True\n",
    "            elif data[idown][col] == \"L\":\n",
    "                S = True\n",
    "        else: \n",
    "            S = True\n",
    "        \n",
    "        # check East\n",
    "        if not E and jright <= len(data)-1:\n",
    "            if data[row][jright] == \"#\": \n",
    "                cnt += 1\n",
    "                E = True\n",
    "            elif data[row][jright] == \"L\": \n",
    "                E = True\n",
    "        else: \n",
    "            E = True\n",
    "\n",
    "        # check West\n",
    "        if not W and jleft >= 0:\n",
    "            if data[row][jleft] == \"#\": \n",
    "                cnt += 1\n",
    "                W = True\n",
    "            elif data[row][jleft] == \"L\": \n",
    "                W = True\n",
    "        else: \n",
    "            W = True\n",
    "\n",
    "        # check North East\n",
    "\n",
    "        if not NE and iup >= 0 and jright <= len(data[row])-1:\n",
    "            if data[iup][jright] == \"#\": \n",
    "                cnt += 1\n",
    "                NE = True\n",
    "            elif data[iup][jright] == \"L\": \n",
    "                NE = True\n",
    "            \n",
    "        else: \n",
    "            NE = True\n",
    "\n",
    "        # Check South East\n",
    "        if not SE and idown <= len[data]-1 and jright <= len(data[row])-1: \n",
    "            if data[idown][jright] == \"#\": \n",
    "                cnt += 1\n",
    "                SE = True\n",
    "            elif data[idown][jright] == \"L\": \n",
    "                SE = True\n",
    "        else: \n",
    "            SE = True\n",
    "            \n",
    "        # check North West\n",
    "        if not NW and iup >= 0 and jleft <= len(data[row])-1: \n",
    "            if data[iup][jleft] == \"#\": \n",
    "                cnt += 1\n",
    "                NW = True\n",
    "            elif data[iup][jleft] == \"L\": \n",
    "                NW = True\n",
    "        else: \n",
    "            NW = True\n",
    "\n",
    "        # Chech south West\n",
    "        if not SW and idown <= len(data)-1 and jleft <= len(data[row])-1: \n",
    "            if data[idown][jleft] == \"#\":\n",
    "                cnt += 1\n",
    "                SW = True\n",
    "            elif data[idown][jleft] == \"L\":\n",
    "                SW = True\n",
    "        else: \n",
    "            SW = True\n",
    "\n",
    "        iup -= 1\n",
    "        idown += 1\n",
    "        jleft -= 1\n",
    "        jright += 1\n",
    "        \n",
    "    return count\n",
    "\n",
    "get_view()"
   ]
  },
  {
   "cell_type": "code",
   "execution_count": 1,
   "metadata": {},
   "outputs": [],
   "source": [
    "# run the rules\n",
    "\n",
    "def run_rules():\n",
    "    new_seating = []\n",
    "\n",
    "    for row in range(len(data)):\n",
    "        current_row = data[row] \n",
    "        new_row = []\n",
    "        \n",
    "        for col in range(len(current_row)):\n",
    "           \n",
    "            if current_row[col] == \".\":\n",
    "                new_row.append(\".\")\n",
    "                continue\n",
    "\n",
    "            adjectent_count = 0\n",
    "            if tolerance == 4:\n",
    "                adjectent_count = get_adjectent_count(row, col)\n",
    "            elif tolerance == 5: \n",
    "                adjectent_count = get_view(row, col)\n",
    "\n",
    "            \n",
    "                \n",
    "            if current_row[col] == \"L\" and adjectent_count == 0:\n",
    "                new_row.append(\"#\")\n",
    "            elif current_row[col] == \"#\" and adjectent_count >= 4: \n",
    "                new_row.append(\"L\")\n",
    "            else:\n",
    "                new_row.append(current_row[col])\n",
    "        new_seating.append(new_row)\n",
    "\n",
    "    for i in range(len(data)):\n",
    "        data[i] = new_seating[i]\n",
    "    "
   ]
  },
  {
   "cell_type": "code",
   "execution_count": null,
   "metadata": {},
   "outputs": [
    {
     "ename": "TypeError",
     "evalue": "run_rules() takes 0 positional arguments but 1 was given",
     "output_type": "error",
     "traceback": [
      "\u001b[0;31m---------------------------------------------------------------------------\u001b[0m",
      "\u001b[0;31mTypeError\u001b[0m                                 Traceback (most recent call last)",
      "\u001b[0;32m<ipython-input-14-ad08add8e3b5>\u001b[0m in \u001b[0;36m<module>\u001b[0;34m\u001b[0m\n\u001b[1;32m      8\u001b[0m \u001b[0;34m\u001b[0m\u001b[0m\n\u001b[1;32m      9\u001b[0m     \u001b[0;32mreturn\u001b[0m \u001b[0mget_num_occupied\u001b[0m\u001b[0;34m(\u001b[0m\u001b[0;34m)\u001b[0m\u001b[0;34m\u001b[0m\u001b[0;34m\u001b[0m\u001b[0m\n\u001b[0;32m---> 10\u001b[0;31m \u001b[0mprint\u001b[0m\u001b[0;34m(\u001b[0m\u001b[0mget_final_count\u001b[0m\u001b[0;34m(\u001b[0m\u001b[0;36m5\u001b[0m\u001b[0;34m)\u001b[0m\u001b[0;34m)\u001b[0m\u001b[0;34m\u001b[0m\u001b[0;34m\u001b[0m\u001b[0m\n\u001b[0m",
      "\u001b[0;32m<ipython-input-14-ad08add8e3b5>\u001b[0m in \u001b[0;36mget_final_count\u001b[0;34m(tolerance)\u001b[0m\n\u001b[1;32m      1\u001b[0m \u001b[0;32mdef\u001b[0m \u001b[0mget_final_count\u001b[0m\u001b[0;34m(\u001b[0m\u001b[0mtolerance\u001b[0m\u001b[0;34m)\u001b[0m\u001b[0;34m:\u001b[0m\u001b[0;34m\u001b[0m\u001b[0;34m\u001b[0m\u001b[0m\n\u001b[1;32m      2\u001b[0m     \u001b[0mprev\u001b[0m \u001b[0;34m=\u001b[0m \u001b[0mdata\u001b[0m\u001b[0;34m.\u001b[0m\u001b[0mcopy\u001b[0m\u001b[0;34m(\u001b[0m\u001b[0;34m)\u001b[0m\u001b[0;34m\u001b[0m\u001b[0;34m\u001b[0m\u001b[0m\n\u001b[0;32m----> 3\u001b[0;31m     \u001b[0mrun_rules\u001b[0m\u001b[0;34m(\u001b[0m\u001b[0mtolerance\u001b[0m\u001b[0;34m)\u001b[0m\u001b[0;34m\u001b[0m\u001b[0;34m\u001b[0m\u001b[0m\n\u001b[0m\u001b[1;32m      4\u001b[0m \u001b[0;34m\u001b[0m\u001b[0m\n\u001b[1;32m      5\u001b[0m     \u001b[0;32mwhile\u001b[0m \u001b[0mdata\u001b[0m \u001b[0;34m!=\u001b[0m \u001b[0mprev\u001b[0m\u001b[0;34m:\u001b[0m\u001b[0;34m\u001b[0m\u001b[0;34m\u001b[0m\u001b[0m\n",
      "\u001b[0;31mTypeError\u001b[0m: run_rules() takes 0 positional arguments but 1 was given"
     ]
    }
   ],
   "source": [
    "def get_final_count(tolerance):\n",
    "    prev = data.copy()\n",
    "    run_rules(tolerance)\n",
    "\n",
    "    while data != prev:\n",
    "        prev = data.copy()\n",
    "        run_rules(tolerance)\n",
    "\n",
    "    return get_num_occupied()\n",
    "print(get_final_count(5))"
   ]
  },
  {
   "cell_type": "code",
   "execution_count": null,
   "metadata": {},
   "outputs": [],
   "source": []
  }
 ],
 "metadata": {
  "kernelspec": {
   "display_name": "base",
   "language": "python",
   "name": "python3"
  },
  "language_info": {
   "codemirror_mode": {
    "name": "ipython",
    "version": 3
   },
   "file_extension": ".py",
   "mimetype": "text/x-python",
   "name": "python",
   "nbconvert_exporter": "python",
   "pygments_lexer": "ipython3",
   "version": "3.8.8"
  },
  "orig_nbformat": 4,
  "vscode": {
   "interpreter": {
    "hash": "ac487868ec6f1a057d0198a4218906d033f5249dd10b04ce45895ac7f11b9e95"
   }
  }
 },
 "nbformat": 4,
 "nbformat_minor": 2
}
