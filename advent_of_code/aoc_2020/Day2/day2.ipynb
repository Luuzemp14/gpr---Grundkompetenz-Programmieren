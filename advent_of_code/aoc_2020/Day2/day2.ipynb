{
 "cells": [
  {
   "cell_type": "code",
   "execution_count": 1,
   "metadata": {},
   "outputs": [
    {
     "data": {
      "text/plain": [
       "[['1-9', 'x:', 'xwjgxtmrzxzmkx'],\n",
       " ['4-6', 'r:', 'rrrkrgr'],\n",
       " ['4-5', 'v:', 'vvfvvvn']]"
      ]
     },
     "execution_count": 1,
     "metadata": {},
     "output_type": "execute_result"
    }
   ],
   "source": [
    "with open(\"input_day2.txt\") as f:\n",
    "    password_list = [line.split()for line in f.readlines()] \n",
    "password_list[0:3]"
   ]
  },
  {
   "cell_type": "code",
   "execution_count": 2,
   "metadata": {},
   "outputs": [
    {
     "data": {
      "text/plain": [
       "['4', '6']"
      ]
     },
     "execution_count": 2,
     "metadata": {},
     "output_type": "execute_result"
    }
   ],
   "source": [
    "password_list[1][0].split(\"-\")"
   ]
  },
  {
   "cell_type": "code",
   "execution_count": 39,
   "metadata": {},
   "outputs": [
    {
     "name": "stdout",
     "output_type": "stream",
     "text": [
      "The number of correct passwords is 640\n"
     ]
    }
   ],
   "source": [
    "right_pwd = 0\n",
    "for num in range(len(password_list)): \n",
    "    range_ = password_list[num][0].split(\"-\")\n",
    "    letter = password_list[num][1][0]\n",
    "    pw = password_list[num][2]\n",
    "\n",
    "    if (pw.count(letter) >= int(range_[0])) and (pw.count(letter) <= int(range_[1])):\n",
    "        right_pwd += 1\n",
    "\n",
    "print(f\"The number of correct passwords is {right_pwd}\")"
   ]
  },
  {
   "cell_type": "code",
   "execution_count": 104,
   "metadata": {},
   "outputs": [
    {
     "name": "stdout",
     "output_type": "stream",
     "text": [
      "the number of correct passwords is 472\n"
     ]
    }
   ],
   "source": [
    "# Part 2\n",
    "correct = 0\n",
    "for num in range(len(password_list)): \n",
    "    range_ = password_list[num][0].split(\"-\")\n",
    "    letter = password_list[num][1][0]\n",
    "    pw = password_list[num][2]\n",
    "\n",
    "    #if (pw[int(range_[0])-1] == letter) or (pw[int(range_[1])-1] == letter): --> \"^\" macht True wenn eines der beiden True gibt, aber nicht beide.\n",
    "    if (pw[int(range_[0])-1] == letter) ^ (pw[int(range_[1])-1] == letter):\n",
    "        correct += 1\n",
    "        \n",
    "print(f\"the number of correct passwords is {correct}\")\n",
    "\n",
    "\n"
   ]
  },
  {
   "cell_type": "code",
   "execution_count": null,
   "metadata": {},
   "outputs": [],
   "source": []
  }
 ],
 "metadata": {
  "kernelspec": {
   "display_name": "Python 3.9.7 64-bit",
   "language": "python",
   "name": "python3"
  },
  "language_info": {
   "codemirror_mode": {
    "name": "ipython",
    "version": 3
   },
   "file_extension": ".py",
   "mimetype": "text/x-python",
   "name": "python",
   "nbconvert_exporter": "python",
   "pygments_lexer": "ipython3",
   "version": "3.9.7"
  },
  "orig_nbformat": 4,
  "vscode": {
   "interpreter": {
    "hash": "aee8b7b246df8f9039afb4144a1f6fd8d2ca17a180786b69acc140d282b71a49"
   }
  }
 },
 "nbformat": 4,
 "nbformat_minor": 2
}
