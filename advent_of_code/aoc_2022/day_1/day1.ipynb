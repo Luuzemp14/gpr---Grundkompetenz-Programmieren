{
 "cells": [
  {
   "cell_type": "markdown",
   "metadata": {},
   "source": [
    "## Part 1"
   ]
  },
  {
   "cell_type": "code",
   "execution_count": 14,
   "metadata": {},
   "outputs": [
    {
     "name": "stdout",
     "output_type": "stream",
     "text": [
      "['1000', '2000', '3000', '', '4000', '', '5000', '6000', '', '7000', '8000', '9000', '', '10000']\n",
      "24000\n"
     ]
    }
   ],
   "source": [
    "with open(\"test.txt\") as f:\n",
    "    data = [line for line in f.read().strip().split(\"\\n\")]\n",
    "\n",
    "max = 0\n",
    "second = 0\n",
    "third = 0\n",
    "count = 0\n",
    "for number in data:\n",
    "    if number == \"\":\n",
    "        count = 0\n",
    "\n",
    "    else:\n",
    "        count += int(number)\n",
    "\n",
    "    if count > max:\n",
    "        max = count\n",
    "        \n",
    "print(data)\n",
    "print(max)\n"
   ]
  },
  {
   "cell_type": "markdown",
   "metadata": {},
   "source": [
    "# Advent of Code Day 1 - Task 2"
   ]
  },
  {
   "cell_type": "code",
   "execution_count": 12,
   "metadata": {},
   "outputs": [
    {
     "name": "stdout",
     "output_type": "stream",
     "text": [
      "210406\n"
     ]
    }
   ],
   "source": [
    "with open(\"input.txt\") as f:\n",
    "    data = [line for line in f.read().strip().split(\"\\n\")]\n",
    "\n",
    "max = 0\n",
    "second = 0\n",
    "third = 0\n",
    "count = 0\n",
    "count_list = []\n",
    "for number in data:\n",
    "    if number == \"\":\n",
    "        count_list.append(count)\n",
    "        count = 0\n",
    "\n",
    "    else:\n",
    "        count += int(number)\n",
    "\n",
    "count_list.append(count)\n",
    "\n",
    "sortiert = sorted(count_list)\n",
    "\n",
    "resultat = sortiert[-3] + sortiert[-2] + sortiert[-1]\n",
    "\n",
    "print(resultat)\n",
    "    "
   ]
  },
  {
   "cell_type": "markdown",
   "metadata": {},
   "source": [
    "# Advent of code - Day1 - List comprehension"
   ]
  },
  {
   "cell_type": "code",
   "execution_count": null,
   "metadata": {},
   "outputs": [],
   "source": [
    "with open(\"test.txt\") as f:\n",
    "    data = [line for line in f.read().strip().split(\"\\n\")]\n",
    "\n",
    "max = 0\n",
    "count = 0\n",
    "\n",
    "for number in data:\n",
    "    if number == \"\":\n",
    "        count = 0\n",
    "\n",
    "    else:\n",
    "        count += int(number)\n",
    "\n",
    "    if count > max:\n",
    "        max = count\n",
    "        \n",
    "print(data)\n",
    "print(max)"
   ]
  }
 ],
 "metadata": {
  "kernelspec": {
   "display_name": "Python 3.8.8 ('base')",
   "language": "python",
   "name": "python3"
  },
  "language_info": {
   "codemirror_mode": {
    "name": "ipython",
    "version": 3
   },
   "file_extension": ".py",
   "mimetype": "text/x-python",
   "name": "python",
   "nbconvert_exporter": "python",
   "pygments_lexer": "ipython3",
   "version": "3.8.8"
  },
  "orig_nbformat": 4,
  "vscode": {
   "interpreter": {
    "hash": "ac487868ec6f1a057d0198a4218906d033f5249dd10b04ce45895ac7f11b9e95"
   }
  }
 },
 "nbformat": 4,
 "nbformat_minor": 2
}
