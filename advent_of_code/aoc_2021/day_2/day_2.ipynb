{
 "cells": [
  {
   "cell_type": "code",
   "execution_count": 114,
   "metadata": {},
   "outputs": [
    {
     "name": "stdout",
     "output_type": "stream",
     "text": [
      "Die Tiefe beträgt 917 Meter.\n",
      "Die zurückgelegte strecke beträgt 2065 Meter.\n",
      "Das U-Boot ist insgesammt 2065 Meter Weit und 917 Meter tief gekommen.\n",
      "Multipliziert gibt das die Lösung: 1893605\n"
     ]
    }
   ],
   "source": [
    "# Daten einlesen\n",
    "with open(\"input_day2\") as f:\n",
    "    tiefe = 0\n",
    "    horizontal = 0\n",
    "    lines = f.readlines()\n",
    "    for line in lines:\n",
    "        if \"forward\" in line:\n",
    "            horizontal += int(line[-2])\n",
    "        if \"up\" in line:\n",
    "            tiefe -= int(line[-2])\n",
    "        if \"down\" in line:\n",
    "            tiefe += int(line[-2])\n",
    "print(f\"Die Tiefe beträgt {tiefe} Meter.\")\n",
    "print(f\"Die zurückgelegte strecke beträgt {horizontal} Meter.\")\n",
    "print(f\"Das U-Boot ist insgesammt {horizontal} Meter Weit und {tiefe} Meter tief gekommen.\")\n",
    "print(f\"Multipliziert gibt das die Lösung: {tiefe * horizontal}\")"
   ]
  },
  {
   "cell_type": "markdown",
   "metadata": {},
   "source": [
    "## Part 2"
   ]
  },
  {
   "cell_type": "code",
   "execution_count": 111,
   "metadata": {},
   "outputs": [
    {
     "name": "stdout",
     "output_type": "stream",
     "text": [
      "2065\n",
      "2120734350\n"
     ]
    }
   ],
   "source": [
    "aim = 0\n",
    "tiefe = 0\n",
    "distanz = 0\n",
    "\n",
    "for line in lines:\n",
    "    if \"forward\" in line:\n",
    "        distanz += int(line[-2])\n",
    "        tiefe += aim * int(line[-2])\n",
    "    if \"up\" in line:\n",
    "        aim -= int(line[-2])\n",
    "    if \"down\" in line:\n",
    "        aim += int(line[-2])\n",
    "print(distanz)\n",
    "print(tiefe * distanz)"
   ]
  },
  {
   "cell_type": "code",
   "execution_count": null,
   "metadata": {},
   "outputs": [],
   "source": []
  }
 ],
 "metadata": {
  "kernelspec": {
   "display_name": "Python 3.9.7 64-bit",
   "language": "python",
   "name": "python3"
  },
  "language_info": {
   "codemirror_mode": {
    "name": "ipython",
    "version": 3
   },
   "file_extension": ".py",
   "mimetype": "text/x-python",
   "name": "python",
   "nbconvert_exporter": "python",
   "pygments_lexer": "ipython3",
   "version": "3.9.7"
  },
  "orig_nbformat": 4,
  "vscode": {
   "interpreter": {
    "hash": "aee8b7b246df8f9039afb4144a1f6fd8d2ca17a180786b69acc140d282b71a49"
   }
  }
 },
 "nbformat": 4,
 "nbformat_minor": 2
}
