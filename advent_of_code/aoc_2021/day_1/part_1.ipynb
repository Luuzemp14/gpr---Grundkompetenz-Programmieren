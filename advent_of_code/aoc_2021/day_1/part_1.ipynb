{
 "cells": [
  {
   "cell_type": "markdown",
   "metadata": {},
   "source": [
    "Advent of Code 2021 - Day 1"
   ]
  },
  {
   "cell_type": "markdown",
   "metadata": {},
   "source": [
    "## Part 1"
   ]
  },
  {
   "cell_type": "code",
   "execution_count": 2,
   "metadata": {},
   "outputs": [],
   "source": [
    "# import data\n",
    "with open(\"input_day1\") as f:\n",
    "    data = f.readlines() "
   ]
  },
  {
   "cell_type": "code",
   "execution_count": 3,
   "metadata": {},
   "outputs": [
    {
     "name": "stdout",
     "output_type": "stream",
     "text": [
      "<class 'list'>\n",
      "['104\\n', '105\\n', '109\\n', '120\\n', '124\\n', '113\\n', '120\\n', '121\\n', '122\\n', '123\\n']\n"
     ]
    }
   ],
   "source": [
    "# daten ansehen\n",
    "print(type(data))\n",
    "print(data[0:10])"
   ]
  },
  {
   "cell_type": "code",
   "execution_count": 16,
   "metadata": {},
   "outputs": [
    {
     "name": "stdout",
     "output_type": "stream",
     "text": [
      "[104, 105, 109, 120, 124, 113, 120, 121, 122, 123]\n"
     ]
    }
   ],
   "source": [
    "# daten zu integer umwandeln, damit man damit rechnen kann\n",
    "for i in range(0,len(data)):\n",
    "    data[i] = int(data[i])\n",
    "\n",
    "print(data[0:10])\n"
   ]
  },
  {
   "cell_type": "code",
   "execution_count": 15,
   "metadata": {},
   "outputs": [
    {
     "name": "stdout",
     "output_type": "stream",
     "text": [
      " Das U-Boot ist 1557 mal gesunken.\n"
     ]
    }
   ],
   "source": [
    "# Count erstellen\n",
    "\n",
    "cnt = 0\n",
    "\n",
    "# for loop erstellen, der für jeden Wert in data schaut, ob er grösser ist als der vordere\n",
    "\n",
    "for number in range(1, len(data)):\n",
    "    if data[number-1] < data[number]:\n",
    "        cnt += 1\n",
    "\n",
    "print(f\" Das U-Boot ist {cnt} mal gesunken.\")"
   ]
  },
  {
   "cell_type": "markdown",
   "metadata": {},
   "source": [
    "## Part 2"
   ]
  },
  {
   "cell_type": "code",
   "execution_count": 25,
   "metadata": {},
   "outputs": [
    {
     "name": "stdout",
     "output_type": "stream",
     "text": [
      "1608\n"
     ]
    }
   ],
   "source": [
    "cnt = 0\n",
    "\n",
    "for number in range(1, len(data)-2):\n",
    "    if (data[number-1] + data[number] + data[number + 1]) < (data[number] +data[number+1] + data[number+2]):\n",
    "        cnt += 1\n",
    "print(cnt)"
   ]
  },
  {
   "cell_type": "code",
   "execution_count": null,
   "metadata": {},
   "outputs": [],
   "source": []
  }
 ],
 "metadata": {
  "kernelspec": {
   "display_name": "Python 3.8.8 ('base')",
   "language": "python",
   "name": "python3"
  },
  "language_info": {
   "codemirror_mode": {
    "name": "ipython",
    "version": 3
   },
   "file_extension": ".py",
   "mimetype": "text/x-python",
   "name": "python",
   "nbconvert_exporter": "python",
   "pygments_lexer": "ipython3",
   "version": "3.8.8"
  },
  "orig_nbformat": 4,
  "vscode": {
   "interpreter": {
    "hash": "ac487868ec6f1a057d0198a4218906d033f5249dd10b04ce45895ac7f11b9e95"
   }
  }
 },
 "nbformat": 4,
 "nbformat_minor": 2
}
