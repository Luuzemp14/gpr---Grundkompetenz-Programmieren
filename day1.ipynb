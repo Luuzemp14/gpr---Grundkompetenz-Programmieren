{
 "cells": [
  {
   "cell_type": "code",
   "execution_count": 31,
   "metadata": {},
   "outputs": [],
   "source": [
    "# read data and put add it to a list\n",
    "\n",
    "numbers = []\n",
    "with open(\"input_day1\") as f:\n",
    "    numbers = list(map(int, f.readlines()))  \n"
   ]
  },
  {
   "cell_type": "code",
   "execution_count": 32,
   "metadata": {},
   "outputs": [
    {
     "name": "stdout",
     "output_type": "stream",
     "text": [
      "181044\n"
     ]
    }
   ],
   "source": [
    "# part 1: find 2 enterys that sum to up to 2020\n",
    "def account(number):\n",
    "    for i in numbers:\n",
    "        for j in numbers:\n",
    "            if i + j == 2020:\n",
    "                return(i * j) \n",
    "print(account(numbers))            \n",
    "        "
   ]
  },
  {
   "cell_type": "code",
   "execution_count": 39,
   "metadata": {},
   "outputs": [
    {
     "name": "stdout",
     "output_type": "stream",
     "text": [
      "82660352\n"
     ]
    }
   ],
   "source": [
    "# part 2: find 3 enterys that sum to up to 2020 and multiply\n",
    "def account(number):\n",
    "    for i in numbers:\n",
    "        for j in numbers:\n",
    "            for k in numbers:\n",
    "                if i + j + k == 2020:\n",
    "                    return(i * j * k) \n",
    "print(account(numbers))  "
   ]
  },
  {
   "cell_type": "code",
   "execution_count": null,
   "metadata": {},
   "outputs": [],
   "source": []
  },
  {
   "cell_type": "code",
   "execution_count": null,
   "metadata": {},
   "outputs": [],
   "source": []
  },
  {
   "cell_type": "code",
   "execution_count": null,
   "metadata": {},
   "outputs": [],
   "source": []
  }
 ],
 "metadata": {
  "kernelspec": {
   "display_name": "Python 3.8.8 ('base')",
   "language": "python",
   "name": "python3"
  },
  "language_info": {
   "codemirror_mode": {
    "name": "ipython",
    "version": 3
   },
   "file_extension": ".py",
   "mimetype": "text/x-python",
   "name": "python",
   "nbconvert_exporter": "python",
   "pygments_lexer": "ipython3",
   "version": "3.8.8"
  },
  "orig_nbformat": 4,
  "vscode": {
   "interpreter": {
    "hash": "ac487868ec6f1a057d0198a4218906d033f5249dd10b04ce45895ac7f11b9e95"
   }
  }
 },
 "nbformat": 4,
 "nbformat_minor": 2
}
