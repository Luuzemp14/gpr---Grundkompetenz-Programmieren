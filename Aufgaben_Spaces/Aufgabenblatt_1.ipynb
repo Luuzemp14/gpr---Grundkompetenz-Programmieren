{
 "cells": [
  {
   "cell_type": "markdown",
   "metadata": {},
   "source": [
    "<img src=\"img/Prime1.png\" width = 800>"
   ]
  },
  {
   "cell_type": "code",
   "execution_count": 51,
   "metadata": {},
   "outputs": [
    {
     "data": {
      "text/plain": [
       "False"
      ]
     },
     "execution_count": 51,
     "metadata": {},
     "output_type": "execute_result"
    }
   ],
   "source": [
    "# Aufgabe 1)\n",
    "\n",
    "def is_prime(n):\n",
    "    if n <= 1:\n",
    "        return False\n",
    "    for i in range(2,int(n**0.5)+1):\n",
    "            if n % i == 0:\n",
    "                return False\n",
    "    return True\n",
    "is_prime(8)"
   ]
  },
  {
   "cell_type": "markdown",
   "metadata": {},
   "source": []
  },
  {
   "cell_type": "markdown",
   "metadata": {},
   "source": [
    "<img src=\"img/Prime2.png\" width = 800>"
   ]
  },
  {
   "cell_type": "code",
   "execution_count": 52,
   "metadata": {},
   "outputs": [
    {
     "data": {
      "text/plain": [
       "[5, 7, 11, 13, 17, 19, 23, 29]"
      ]
     },
     "execution_count": 52,
     "metadata": {},
     "output_type": "execute_result"
    }
   ],
   "source": [
    "# Aufgabe 2 All_primes:\n",
    "\n",
    "def all_primes(n):\n",
    "    lst = []\n",
    "    for num in range(5, n+1):\n",
    "        if is_prime(num):\n",
    "            lst.append(num)\n",
    "    return lst\n",
    "\n",
    "all_primes(29)"
   ]
  },
  {
   "cell_type": "code",
   "execution_count": 6,
   "metadata": {},
   "outputs": [
    {
     "data": {
      "text/plain": [
       "[2, 3, 5, 7, 11, 13, 17, 19]"
      ]
     },
     "execution_count": 6,
     "metadata": {},
     "output_type": "execute_result"
    }
   ],
   "source": [
    "# List comporehension\n",
    "def all_primes_comp(n):\n",
    "    return [num for num in range(0,n) if is_prime(num)]\n",
    "all_primes_comp(20)"
   ]
  },
  {
   "cell_type": "code",
   "execution_count": 7,
   "metadata": {},
   "outputs": [
    {
     "name": "stdout",
     "output_type": "stream",
     "text": [
      "[2, 3, 5, 7, 11, 13, 17, 19, 23, 29, 31, 37, 41, 43, 47, 53, 59, 61, 67, 71, 73, 79, 83, 89, 97]\n"
     ]
    }
   ],
   "source": [
    "# Aufgabe 3) Sieb des Eratosthenes\n",
    "\n",
    "def eratosthenes(n):\n",
    "    numbers = list(range(2, n+1))\n",
    "  \n",
    "    for i in numbers:\n",
    "       for j in numbers:\n",
    "           if j % i == 0 and i != j:\n",
    "               numbers.remove(j)\n",
    "    return numbers\n",
    "            \n",
    "print(eratosthenes(100))\n",
    "# Resultat ist Falsch!\n"
   ]
  },
  {
   "cell_type": "markdown",
   "metadata": {},
   "source": [
    "<img src=\"img/Prime4.png\" width = 800>"
   ]
  },
  {
   "cell_type": "code",
   "execution_count": 8,
   "metadata": {},
   "outputs": [
    {
     "data": {
      "text/plain": [
       "[1, 2, 2, 4, 2, 4, 2, 4, 6, 2, 6, 4, 2, 4, 6, 6, 2, 6, 4, 2, 6, 4, 6, 8]"
      ]
     },
     "execution_count": 8,
     "metadata": {},
     "output_type": "execute_result"
    }
   ],
   "source": [
    "# Aufgabe 4) Abstände zwischen Primzahlen\n",
    "def get_distances(primes):\n",
    "  list_distanzen = []\n",
    "  for i in range(0, len(primes)-1):\n",
    "        list_distanzen.append(primes[i+1] - primes[i])\n",
    "  return list_distanzen\n",
    "\n",
    "get_distances(eratosthenes(100))"
   ]
  },
  {
   "cell_type": "markdown",
   "metadata": {},
   "source": [
    "<img src=\"img/Prime5.png\" width = 800>"
   ]
  },
  {
   "cell_type": "code",
   "execution_count": 9,
   "metadata": {},
   "outputs": [
    {
     "data": {
      "text/plain": [
       "[(1, 1), (2, 8), (4, 7), (6, 7), (8, 1)]"
      ]
     },
     "execution_count": 9,
     "metadata": {},
     "output_type": "execute_result"
    }
   ],
   "source": [
    "def heuristic(n): \n",
    "    abstand = []\n",
    "    for i in range(len(n)): \n",
    "        if n.count(i) != 0:\n",
    "            abstand.append((i, n.count(i)))\n",
    "            \n",
    "    return abstand\n",
    "heuristic(get_distances(eratosthenes(100)))\n"
   ]
  },
  {
   "cell_type": "markdown",
   "metadata": {},
   "source": [
    "<img src=\"img/Prime6.png\" width = 800>"
   ]
  },
  {
   "cell_type": "code",
   "execution_count": null,
   "metadata": {},
   "outputs": [],
   "source": []
  },
  {
   "cell_type": "code",
   "execution_count": null,
   "metadata": {},
   "outputs": [],
   "source": []
  },
  {
   "cell_type": "code",
   "execution_count": 10,
   "metadata": {},
   "outputs": [
    {
     "data": {
      "text/plain": [
       "True"
      ]
     },
     "execution_count": 10,
     "metadata": {},
     "output_type": "execute_result"
    }
   ],
   "source": [
    "def is_prime(n):\n",
    "    if n < 2:\n",
    "        return False\n",
    "    for t in range(2, n):\n",
    "        if n%t == 0:\n",
    "            return False\n",
    "    return True\n",
    "is_prime(47)"
   ]
  },
  {
   "cell_type": "code",
   "execution_count": 11,
   "metadata": {},
   "outputs": [
    {
     "data": {
      "text/plain": [
       "[2, 3, 5, 7, 11, 13, 17, 19]"
      ]
     },
     "execution_count": 11,
     "metadata": {},
     "output_type": "execute_result"
    }
   ],
   "source": [
    "def all_primes(n):\n",
    "    lst = []\n",
    "    for num in range(2, n+1):\n",
    "        if is_prime(num):\n",
    "            lst.append(num)\n",
    "    return lst\n",
    "all_primes(20)"
   ]
  },
  {
   "cell_type": "code",
   "execution_count": 12,
   "metadata": {},
   "outputs": [
    {
     "data": {
      "text/plain": [
       "[2, 3, 5, 7, 11, 13, 17, 19]"
      ]
     },
     "execution_count": 12,
     "metadata": {},
     "output_type": "execute_result"
    }
   ],
   "source": [
    "def eratostenes(n):\n",
    "    lst = []\n",
    "    for i in range(2, n+1):\n",
    "        lst.append(i)\n",
    "    for i in lst:\n",
    "        for j in lst:\n",
    "            if i != j and j%i == 0:\n",
    "                lst.remove(j)\n",
    "    return lst\n",
    "\n",
    "eratostenes(20)"
   ]
  },
  {
   "cell_type": "code",
   "execution_count": 13,
   "metadata": {},
   "outputs": [
    {
     "data": {
      "text/plain": [
       "[1, 2, 2, 4, 2, 4, 2, 4, 6, 2, 6, 4, 2, 4, 6, 6, 2, 6, 4, 2, 6, 4, 6, 8]"
      ]
     },
     "execution_count": 13,
     "metadata": {},
     "output_type": "execute_result"
    }
   ],
   "source": [
    "def abstande(primes):\n",
    "    abstande = []\n",
    "    for prime in range(1, len(primes)):\n",
    "        abstande.append(primes[prime] - primes[prime -1])\n",
    "    return abstande\n",
    "\n",
    "abstande(eratostenes(100))"
   ]
  },
  {
   "cell_type": "code",
   "execution_count": 14,
   "metadata": {},
   "outputs": [
    {
     "data": {
      "text/plain": [
       "[(1, 1), (2, 8), (4, 7), (6, 7), (8, 1)]"
      ]
     },
     "execution_count": 14,
     "metadata": {},
     "output_type": "execute_result"
    }
   ],
   "source": [
    "def heuristic(distances):\n",
    "    heuristics = []\n",
    "    for num in range(len(distances)):\n",
    "        if distances.count(num) != 0:\n",
    "            heuristics.append(tuple([(num), distances.count(num)]))\n",
    "    return heuristics\n",
    "heuristic(abstande(eratostenes(100)))"
   ]
  },
  {
   "cell_type": "code",
   "execution_count": 82,
   "metadata": {},
   "outputs": [
    {
     "data": {
      "text/plain": [
       "True"
      ]
     },
     "execution_count": 82,
     "metadata": {},
     "output_type": "execute_result"
    }
   ],
   "source": [
    "#au1\n",
    "\n",
    "def is_prime(n):\n",
    "    if n < 2:\n",
    "        return False\n",
    "    for i in range(2, n):\n",
    "        if n%i == 0:\n",
    "            return False\n",
    "    return True\n",
    "is_prime(47)"
   ]
  },
  {
   "cell_type": "code",
   "execution_count": 84,
   "metadata": {},
   "outputs": [
    {
     "data": {
      "text/plain": [
       "[2, 3, 5, 7, 11, 13, 17, 19, 23, 29]"
      ]
     },
     "execution_count": 84,
     "metadata": {},
     "output_type": "execute_result"
    }
   ],
   "source": [
    "# Aufgabe 2\n",
    "def all_primes(n):\n",
    "    lst = []\n",
    "    for num in range(1, n+1):\n",
    "        if is_prime(num) == True:\n",
    "            lst.append(num)\n",
    "    return lst\n",
    "all_primes(29)"
   ]
  },
  {
   "cell_type": "code",
   "execution_count": 81,
   "metadata": {},
   "outputs": [
    {
     "data": {
      "text/plain": [
       "[2, 3, 5, 7, 11, 13, 17, 19, 23, 29]"
      ]
     },
     "execution_count": 81,
     "metadata": {},
     "output_type": "execute_result"
    }
   ],
   "source": [
    "# Aufgabe 3\n",
    "def eratostenes(n):\n",
    "    lst = list(range(2, n+1))\n",
    "    for i in lst:\n",
    "        for j in lst:\n",
    "            if j%i == 0 and i != j:\n",
    "                lst.remove(j)\n",
    "    return lst\n",
    "eratostenes(29)\n"
   ]
  },
  {
   "cell_type": "code",
   "execution_count": 106,
   "metadata": {},
   "outputs": [
    {
     "data": {
      "text/plain": [
       "[1, 2, 2, 4, 2, 4, 2, 4, 6, 2, 6, 4, 2, 4, 6, 6, 2, 6, 4, 2, 6, 4, 6, 8]"
      ]
     },
     "execution_count": 106,
     "metadata": {},
     "output_type": "execute_result"
    }
   ],
   "source": [
    "def distances(primes):\n",
    "    lst = []\n",
    "    for i in range(1, len(primes)):\n",
    "        lst.append(primes[i] - primes[i-1])\n",
    "    return lst\n",
    "distances(eratostenes(100))"
   ]
  },
  {
   "cell_type": "code",
   "execution_count": 105,
   "metadata": {},
   "outputs": [
    {
     "data": {
      "text/plain": [
       "[1, 2, 2, 4, 2, 4, 2, 4, 6, 2, 6, 4, 2, 4, 6, 6, 2, 6, 4, 2, 6, 4, 6, 8]"
      ]
     },
     "execution_count": 105,
     "metadata": {},
     "output_type": "execute_result"
    }
   ],
   "source": [
    "def listcom(primes):\n",
    "    return [primes[i] - primes[i-1] for i in range(1, len(primes))]\n",
    "listcom(eratostenes(100))"
   ]
  },
  {
   "cell_type": "code",
   "execution_count": 117,
   "metadata": {},
   "outputs": [
    {
     "data": {
      "text/plain": [
       "[(1, 1), (2, 8), (4, 7), (6, 7), (8, 1)]"
      ]
     },
     "execution_count": 117,
     "metadata": {},
     "output_type": "execute_result"
    }
   ],
   "source": [
    "def heuristic(n):\n",
    "    lst = []\n",
    "    for i in range(len(n)):\n",
    "        if n.count(i) != 0:\n",
    "            lst.append((i, n.count(i)))\n",
    "    return lst\n",
    "heuristic(distances(eratostenes(100)))"
   ]
  },
  {
   "cell_type": "code",
   "execution_count": 118,
   "metadata": {},
   "outputs": [
    {
     "data": {
      "text/plain": [
       "[(1, 1),\n",
       " (2, 8),\n",
       " (2, 8),\n",
       " (4, 7),\n",
       " (2, 8),\n",
       " (4, 7),\n",
       " (2, 8),\n",
       " (4, 7),\n",
       " (6, 7),\n",
       " (2, 8),\n",
       " (6, 7),\n",
       " (4, 7),\n",
       " (2, 8),\n",
       " (4, 7),\n",
       " (6, 7),\n",
       " (6, 7),\n",
       " (2, 8),\n",
       " (6, 7),\n",
       " (4, 7),\n",
       " (2, 8),\n",
       " (6, 7),\n",
       " (4, 7),\n",
       " (6, 7),\n",
       " (8, 1)]"
      ]
     },
     "execution_count": 118,
     "metadata": {},
     "output_type": "execute_result"
    }
   ],
   "source": [
    "def heuristic(lst):\n",
    "    newlist = []\n",
    "    for i in lst:\n",
    "        count = 0\n",
    "        for j in lst:\n",
    "            if i == j:\n",
    "                count += 1\n",
    "        newlist.append((i, count))\n",
    "    return newlist\n",
    "heuristic(distances(eratostenes(100)))"
   ]
  },
  {
   "cell_type": "code",
   "execution_count": null,
   "metadata": {},
   "outputs": [],
   "source": []
  }
 ],
 "metadata": {
  "kernelspec": {
   "display_name": "Python 3.8.8 ('base')",
   "language": "python",
   "name": "python3"
  },
  "language_info": {
   "codemirror_mode": {
    "name": "ipython",
    "version": 3
   },
   "file_extension": ".py",
   "mimetype": "text/x-python",
   "name": "python",
   "nbconvert_exporter": "python",
   "pygments_lexer": "ipython3",
   "version": "3.8.8"
  },
  "orig_nbformat": 4,
  "vscode": {
   "interpreter": {
    "hash": "ac487868ec6f1a057d0198a4218906d033f5249dd10b04ce45895ac7f11b9e95"
   }
  }
 },
 "nbformat": 4,
 "nbformat_minor": 2
}
