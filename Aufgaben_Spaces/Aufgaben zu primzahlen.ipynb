{
 "cells": [
  {
   "cell_type": "code",
   "execution_count": 3,
   "id": "342aedd3",
   "metadata": {},
   "outputs": [],
   "source": [
    "import numpy as np"
   ]
  },
  {
   "cell_type": "markdown",
   "id": "dcba1986",
   "metadata": {},
   "source": [
    "### Aufgabe 1) is_prime()"
   ]
  },
  {
   "cell_type": "code",
   "execution_count": 4,
   "id": "97b579d8",
   "metadata": {},
   "outputs": [
    {
     "data": {
      "text/plain": [
       "True"
      ]
     },
     "execution_count": 4,
     "metadata": {},
     "output_type": "execute_result"
    }
   ],
   "source": [
    "def is_prime(n):\n",
    "    if n < 2:\n",
    "        return False\n",
    "    for i in range(2,int(n**0.5)+1):\n",
    "            if n % i == 0:\n",
    "                return False\n",
    "            #else:\n",
    "                #return True\n",
    "    return True\n",
    "is_prime(2)"
   ]
  },
  {
   "cell_type": "markdown",
   "id": "2cfe39d3",
   "metadata": {},
   "source": [
    "### Aufgabe 2) all_primes()"
   ]
  },
  {
   "cell_type": "code",
   "execution_count": 5,
   "id": "4c61fc83",
   "metadata": {},
   "outputs": [
    {
     "name": "stdout",
     "output_type": "stream",
     "text": [
      "[2, 3, 5, 7, 11, 13, 17, 19, 23, 29, 31, 37, 41, 43, 47, 53, 59, 61, 67, 71, 73, 79, 83, 89, 97]\n"
     ]
    }
   ],
   "source": [
    "def all_primes(n):\n",
    "    lst = []\n",
    "    for t in range(1, n):\n",
    "        if is_prime(t):\n",
    "            lst.append(t)\n",
    "    return lst\n",
    "                \n",
    "print(all_primes(100))"
   ]
  },
  {
   "cell_type": "markdown",
   "id": "b10206a6",
   "metadata": {},
   "source": [
    "### Aufgabe 3) Sieb des Aristoteles"
   ]
  },
  {
   "cell_type": "code",
   "execution_count": 8,
   "id": "a7e9c0a5",
   "metadata": {},
   "outputs": [
    {
     "name": "stdout",
     "output_type": "stream",
     "text": [
      "[2, 3, 5, 7, 11, 13, 17, 19, 23, 29, 31, 37, 41, 43, 47, 53, 59, 61, 67, 71, 73, 79, 83, 89, 97]\n"
     ]
    }
   ],
   "source": [
    "def all_primes_comp(n):\n",
    "    return([t for t in range(1, n) if is_prime(t)])\n",
    "    \n",
    "print(all_primes_comp(100))"
   ]
  },
  {
   "cell_type": "markdown",
   "id": "8c111768",
   "metadata": {},
   "source": [
    "### Aufgabe 4) "
   ]
  }
 ],
 "metadata": {
  "kernelspec": {
   "display_name": "Python 3",
   "language": "python",
   "name": "python3"
  },
  "language_info": {
   "codemirror_mode": {
    "name": "ipython",
    "version": 3
   },
   "file_extension": ".py",
   "mimetype": "text/x-python",
   "name": "python",
   "nbconvert_exporter": "python",
   "pygments_lexer": "ipython3",
   "version": "3.9.7 (v3.9.7:1016ef3790, Aug 30 2021, 16:39:15) \n[Clang 6.0 (clang-600.0.57)]"
  },
  "vscode": {
   "interpreter": {
    "hash": "aee8b7b246df8f9039afb4144a1f6fd8d2ca17a180786b69acc140d282b71a49"
   }
  }
 },
 "nbformat": 4,
 "nbformat_minor": 5
}
