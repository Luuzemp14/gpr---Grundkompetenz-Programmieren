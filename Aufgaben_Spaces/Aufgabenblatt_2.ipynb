{
 "cells": [
  {
   "cell_type": "markdown",
   "metadata": {},
   "source": [
    "# Programmieren rund um Matrizen\n",
    "### Aufgabe 1"
   ]
  },
  {
   "cell_type": "code",
   "execution_count": 5,
   "metadata": {},
   "outputs": [
    {
     "name": "stdout",
     "output_type": "stream",
     "text": [
      "[[1, 0, 3], [0, 2, 4]]\n"
     ]
    }
   ],
   "source": [
    "matrix = [[1, 0, 3],[0, 2, 4]]\n",
    "print(matrix)"
   ]
  },
  {
   "cell_type": "code",
   "execution_count": 3,
   "metadata": {},
   "outputs": [
    {
     "name": "stdout",
     "output_type": "stream",
     "text": [
      "[[1, 0], [0, 2], [3, 4]]\n"
     ]
    }
   ],
   "source": [
    "matrixT = [[1, 0], [0, 2], [3, 4]]\n",
    "print(matrixT)"
   ]
  },
  {
   "cell_type": "code",
   "execution_count": 13,
   "metadata": {},
   "outputs": [
    {
     "ename": "TypeError",
     "evalue": "unsupported operand type(s) for -: 'list' and 'int'",
     "output_type": "error",
     "traceback": [
      "\u001b[0;31m---------------------------------------------------------------------------\u001b[0m",
      "\u001b[0;31mTypeError\u001b[0m                                 Traceback (most recent call last)",
      "\u001b[1;32m/Users/luuzemp14/01 -- FHNW - Data Science/3. Semester/03_gpr - Grundkompetenz Programmieren/gpr-Grundkompetenz-Programmieren/Aufgaben_Spaces/Aufgabenblatt_2.ipynb Zelle 4\u001b[0m in \u001b[0;36m<cell line: 6>\u001b[0;34m()\u001b[0m\n\u001b[1;32m      <a href='vscode-notebook-cell:/Users/luuzemp14/01%20--%20FHNW%20-%20Data%20Science/3.%20Semester/03_gpr%20-%20Grundkompetenz%20Programmieren/gpr-Grundkompetenz-Programmieren/Aufgaben_Spaces/Aufgabenblatt_2.ipynb#X16sZmlsZQ%3D%3D?line=3'>4</a>\u001b[0m             \u001b[39mreturn\u001b[39;00m \u001b[39mTrue\u001b[39;00m\n\u001b[1;32m      <a href='vscode-notebook-cell:/Users/luuzemp14/01%20--%20FHNW%20-%20Data%20Science/3.%20Semester/03_gpr%20-%20Grundkompetenz%20Programmieren/gpr-Grundkompetenz-Programmieren/Aufgaben_Spaces/Aufgabenblatt_2.ipynb#X16sZmlsZQ%3D%3D?line=4'>5</a>\u001b[0m     \u001b[39mreturn\u001b[39;00m false\n\u001b[0;32m----> <a href='vscode-notebook-cell:/Users/luuzemp14/01%20--%20FHNW%20-%20Data%20Science/3.%20Semester/03_gpr%20-%20Grundkompetenz%20Programmieren/gpr-Grundkompetenz-Programmieren/Aufgaben_Spaces/Aufgabenblatt_2.ipynb#X16sZmlsZQ%3D%3D?line=5'>6</a>\u001b[0m well_formed_matrix(matrix)\n",
      "\u001b[1;32m/Users/luuzemp14/01 -- FHNW - Data Science/3. Semester/03_gpr - Grundkompetenz Programmieren/gpr-Grundkompetenz-Programmieren/Aufgaben_Spaces/Aufgabenblatt_2.ipynb Zelle 4\u001b[0m in \u001b[0;36mwell_formed_matrix\u001b[0;34m(m)\u001b[0m\n\u001b[1;32m      <a href='vscode-notebook-cell:/Users/luuzemp14/01%20--%20FHNW%20-%20Data%20Science/3.%20Semester/03_gpr%20-%20Grundkompetenz%20Programmieren/gpr-Grundkompetenz-Programmieren/Aufgaben_Spaces/Aufgabenblatt_2.ipynb#X16sZmlsZQ%3D%3D?line=0'>1</a>\u001b[0m \u001b[39mdef\u001b[39;00m \u001b[39mwell_formed_matrix\u001b[39m(m):\n\u001b[1;32m      <a href='vscode-notebook-cell:/Users/luuzemp14/01%20--%20FHNW%20-%20Data%20Science/3.%20Semester/03_gpr%20-%20Grundkompetenz%20Programmieren/gpr-Grundkompetenz-Programmieren/Aufgaben_Spaces/Aufgabenblatt_2.ipynb#X16sZmlsZQ%3D%3D?line=1'>2</a>\u001b[0m     \u001b[39mfor\u001b[39;00m i \u001b[39min\u001b[39;00m matrix:\n\u001b[0;32m----> <a href='vscode-notebook-cell:/Users/luuzemp14/01%20--%20FHNW%20-%20Data%20Science/3.%20Semester/03_gpr%20-%20Grundkompetenz%20Programmieren/gpr-Grundkompetenz-Programmieren/Aufgaben_Spaces/Aufgabenblatt_2.ipynb#X16sZmlsZQ%3D%3D?line=2'>3</a>\u001b[0m         \u001b[39mif\u001b[39;00m \u001b[39mlen\u001b[39m(i) \u001b[39m>\u001b[39m \u001b[39m0\u001b[39m \u001b[39mand\u001b[39;00m \u001b[39mlen\u001b[39m(i) \u001b[39m==\u001b[39m \u001b[39mlen\u001b[39m(i\u001b[39m-\u001b[39;49m\u001b[39m1\u001b[39;49m):\n\u001b[1;32m      <a href='vscode-notebook-cell:/Users/luuzemp14/01%20--%20FHNW%20-%20Data%20Science/3.%20Semester/03_gpr%20-%20Grundkompetenz%20Programmieren/gpr-Grundkompetenz-Programmieren/Aufgaben_Spaces/Aufgabenblatt_2.ipynb#X16sZmlsZQ%3D%3D?line=3'>4</a>\u001b[0m             \u001b[39mreturn\u001b[39;00m \u001b[39mTrue\u001b[39;00m\n\u001b[1;32m      <a href='vscode-notebook-cell:/Users/luuzemp14/01%20--%20FHNW%20-%20Data%20Science/3.%20Semester/03_gpr%20-%20Grundkompetenz%20Programmieren/gpr-Grundkompetenz-Programmieren/Aufgaben_Spaces/Aufgabenblatt_2.ipynb#X16sZmlsZQ%3D%3D?line=4'>5</a>\u001b[0m     \u001b[39mreturn\u001b[39;00m false\n",
      "\u001b[0;31mTypeError\u001b[0m: unsupported operand type(s) for -: 'list' and 'int'"
     ]
    }
   ],
   "source": [
    "def well_formed_matrix(m):\n",
    "    for i in matrix:\n",
    "        if len(i) > 0 and len(i) == len(i-1):\n",
    "            return True\n",
    "    return false\n",
    "well_formed_matrix(matrix)"
   ]
  },
  {
   "cell_type": "code",
   "execution_count": null,
   "metadata": {},
   "outputs": [],
   "source": []
  },
  {
   "cell_type": "code",
   "execution_count": null,
   "metadata": {},
   "outputs": [],
   "source": []
  },
  {
   "cell_type": "code",
   "execution_count": null,
   "metadata": {},
   "outputs": [],
   "source": []
  },
  {
   "cell_type": "code",
   "execution_count": null,
   "metadata": {},
   "outputs": [],
   "source": []
  },
  {
   "cell_type": "code",
   "execution_count": null,
   "metadata": {},
   "outputs": [],
   "source": []
  }
 ],
 "metadata": {
  "kernelspec": {
   "display_name": "Python 3.9.7 64-bit",
   "language": "python",
   "name": "python3"
  },
  "language_info": {
   "codemirror_mode": {
    "name": "ipython",
    "version": 3
   },
   "file_extension": ".py",
   "mimetype": "text/x-python",
   "name": "python",
   "nbconvert_exporter": "python",
   "pygments_lexer": "ipython3",
   "version": "3.9.7"
  },
  "orig_nbformat": 4,
  "vscode": {
   "interpreter": {
    "hash": "aee8b7b246df8f9039afb4144a1f6fd8d2ca17a180786b69acc140d282b71a49"
   }
  }
 },
 "nbformat": 4,
 "nbformat_minor": 2
}
