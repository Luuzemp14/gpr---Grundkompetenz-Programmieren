{
 "cells": [
  {
   "cell_type": "markdown",
   "metadata": {},
   "source": [
    "<img src=\"img/Aufgabe1.png\" width = 800>"
   ]
  },
  {
   "cell_type": "code",
   "execution_count": 9,
   "metadata": {},
   "outputs": [
    {
     "name": "stdout",
     "output_type": "stream",
     "text": [
      "False\n",
      "False\n",
      "False\n",
      "True\n"
     ]
    }
   ],
   "source": [
    "# Liste nicht leer und alle Listen in der Liste die selbe Länge\n",
    "\n",
    "def well_formed_matrix(m):\n",
    "    if m == []:\n",
    "        return False\n",
    "    if len(m[0]) < 1:\n",
    "        return False\n",
    "    for i in range(len(m)):\n",
    "        if len(m) > 1 and len(m[i-1]) != len(m[i]):\n",
    "            return False\n",
    "    return True\n",
    "    \n",
    "print(well_formed_matrix([]))\n",
    "print(well_formed_matrix([[],[],[],[],[]]))\n",
    "print(well_formed_matrix([[1],[1,2]]))\n",
    "print(well_formed_matrix([[0,0],[1,2],[1,1]]))\n",
    "\n"
   ]
  },
  {
   "cell_type": "markdown",
   "metadata": {},
   "source": [
    "<img src=\"img/Aufgabe2.png\" width = 800>"
   ]
  },
  {
   "cell_type": "code",
   "execution_count": 104,
   "metadata": {},
   "outputs": [
    {
     "name": "stdout",
     "output_type": "stream",
     "text": [
      "<class 'ValueError'>\n",
      "[[1, 2], [2, 2], [3, 2]]\n",
      "[[1, 0, 3], [0, 2, 4]]\n",
      "[[1, 1, 3], [0, 1, 4], [9, 1, 4], [9, 1, 4], [9, 2, 4]]\n"
     ]
    }
   ],
   "source": [
    "def transpose(m):\n",
    "    if well_formed_matrix(m):\n",
    "        lst = []\n",
    "        for i in range(len(m[0])):\n",
    "            row = []            \n",
    "            for j in range(len(m)):\n",
    "                row.append(m[j][i])\n",
    "            lst.append(row)\n",
    "        return lst\n",
    "    return ValueError\n",
    "print(transpose([[0],[0,2],[3,4]]))\n",
    "print(transpose([[1,2,3],[2,2,2]]))\n",
    "print(transpose([[1,0],[0,2],[3,4]]))\n",
    "print(transpose([[1,0, 9, 9, 9],[1, 1, 1, 1, 2],[3,4, 4, 4, 4]]))\n"
   ]
  },
  {
   "cell_type": "markdown",
   "metadata": {},
   "source": [
    "<img src=\"img/Aufgabe3.png\" width = 800>"
   ]
  },
  {
   "cell_type": "code",
   "execution_count": 11,
   "metadata": {},
   "outputs": [
    {
     "name": "stdout",
     "output_type": "stream",
     "text": [
      "(2, 3, [1, 0, 3, 0, 2, 4])\n",
      "(3, 2, [1, 0, 0, 2, 3, 4])\n"
     ]
    }
   ],
   "source": [
    "def flatten(m):\n",
    "    rows = len(m)\n",
    "    cols = len(m[0])\n",
    "    nums = []\n",
    "    for i in m:\n",
    "        for j in i:\n",
    "            nums.append(j)\n",
    "    return (rows, cols, nums)\n",
    "print(tuple(flatten([[1,0,3],[0,2,4]]))) # geht mit tuple() und ohne\n",
    "print(flatten([[1,0],[0,2],[3,4]]))\n"
   ]
  },
  {
   "cell_type": "markdown",
   "metadata": {},
   "source": [
    "<img src=\"img/Aufgabe4.png\" width = 800>"
   ]
  },
  {
   "cell_type": "code",
   "execution_count": 70,
   "metadata": {},
   "outputs": [
    {
     "name": "stdout",
     "output_type": "stream",
     "text": [
      "[[1, 0, 0], [2, 3, 4]]\n",
      "[[1, 0], [0, 2], [3, 4]]\n",
      "[[1, 3, 2], [2, 2, 2]]\n"
     ]
    }
   ],
   "source": [
    "def transposito(m):\n",
    "# Falls Matrix als Tuple\n",
    "    if type(m) == tuple:\n",
    "        lst = []\n",
    "        rows = m[0]\n",
    "        cols = m[1]\n",
    "        for i in range(rows):\n",
    "            lst.append([])\n",
    "            for j in range(cols):\n",
    "                lst[i].append(m[2][i*m[1]+j])\n",
    "        return lst\n",
    "# falls nicht matrix als Tuple\n",
    "    else:\n",
    "        if well_formed_matrix(m):\n",
    "            res = []\n",
    "            for i in range(len(m[0])):\n",
    "                row = []\n",
    "                for j in range(len(m)):\n",
    "                    row.append(m[j][i])\n",
    "                res.append(row)\n",
    "            return res\n",
    "        else:\n",
    "            return ValueError\n",
    "    \n",
    "print(transposito((2, 3, [1, 0, 0, 2, 3, 4])))\n",
    "print(transposito((3, 2, [1, 0, 0, 2, 3, 4])))\n",
    "print(transposito([[1,2],[3, 2],[2,2]]))"
   ]
  },
  {
   "cell_type": "markdown",
   "metadata": {},
   "source": [
    "<img src=\"img/Aufgabe5.png\" width = 800>"
   ]
  },
  {
   "cell_type": "code",
   "execution_count": 2,
   "metadata": {},
   "outputs": [
    {
     "name": "stdout",
     "output_type": "stream",
     "text": [
      "(2, 3, {(0, 0): 1, (0, 2): 3, (1, 1): 2, (1, 2): 4})\n",
      "(4, 4, {})\n",
      "(1, 1, {(0, 0): 5})\n",
      "(3, 5, {(0, 0): 5, (0, 1): 5, (0, 2): 5, (0, 3): 5, (0, 4): 5, (1, 0): 1, (1, 1): 1, (1, 2): 1, (1, 3): 1, (1, 4): 1, (2, 0): 2, (2, 1): 2, (2, 2): 2, (2, 3): 2, (2, 4): 2})\n"
     ]
    }
   ],
   "source": [
    "def as_dict(m):\n",
    "    d = {}\n",
    "    for i in range(len(m)):\n",
    "        for j in range(len(m[i])):\n",
    "            if m[i][j] != 0:\n",
    "                d[(i, j)] = m[i][j]\n",
    "    return (len(m), len(m[0]),d)\n",
    "            \n",
    "print(as_dict([[1,0,3],[0,2,4]]))\n",
    "print(as_dict([[0,0,0,0],[0,0,0,0],[0,0,0,0],[0,0,0,0]]))\n",
    "print(as_dict([[5]]))\n",
    "print(as_dict([[5,5,5,5,5],[1,1,1,1,1],[2,2,2,2,2]]))"
   ]
  },
  {
   "cell_type": "markdown",
   "metadata": {},
   "source": [
    "<img src=\"img/Aufgabe6.png\" width = 800>"
   ]
  },
  {
   "cell_type": "code",
   "execution_count": 14,
   "metadata": {},
   "outputs": [
    {
     "name": "stdout",
     "output_type": "stream",
     "text": [
      "[[1, 2], [2, 2], [3, 2]]\n",
      "[[1, 0, 3], [0, 2, 4]]\n"
     ]
    }
   ],
   "source": [
    "def transpose2(m):\n",
    "    if well_formed_matrix(m):\n",
    "        trans = [[0 for l in m] for l in m[0]]\n",
    "        for i in range(len(m)):\n",
    "            for j in range(len(m[i])):\n",
    "                trans[j][i] = m[i][j]\n",
    "        return trans\n",
    "    else:\n",
    "        return ValueError\n",
    "print(transpose2([[1,2,3],[2,2,2]]))\n",
    "print(transpose2([[1,0],[0,2],[3,4]]))"
   ]
  },
  {
   "cell_type": "code",
   "execution_count": null,
   "metadata": {},
   "outputs": [],
   "source": []
  },
  {
   "cell_type": "code",
   "execution_count": 188,
   "metadata": {},
   "outputs": [
    {
     "data": {
      "text/plain": [
       "{'brand': 'Ferrari',\n",
       " 'sand': 'im motor',\n",
       " 'PS': 200,\n",
       " 'Year': 2022,\n",
       " 'restoration': ['2024', '2026'],\n",
       " 'rendted': False,\n",
       " 'Motor': 'Benzin',\n",
       " 'Farbe des Autos 1+1': 'Rot',\n",
       " 1: 'this is a tubel'}"
      ]
     },
     "execution_count": 188,
     "metadata": {},
     "output_type": "execute_result"
    }
   ],
   "source": [
    "car = {\n",
    "    \"brand\": \"Ferrari\",\n",
    "    \"sand\": \"im motor\",\n",
    "    \"PS\": 200,\n",
    "    \"Year\": 2022,\n",
    "    \"restoration\": [\"2024\", \"2026\"],\n",
    "    \"rendted\": False\n",
    "}\n",
    "#print(car[\"brand\"])\n",
    "car[\"Motor\"] = \"Benzin\"\n",
    "car[\"Farbe des Autos 1+1\"] = \"Rot\"\n",
    "car[1] = (\"this is a tubel\")\n",
    "car"
   ]
  },
  {
   "cell_type": "code",
   "execution_count": 16,
   "metadata": {},
   "outputs": [
    {
     "name": "stdout",
     "output_type": "stream",
     "text": [
      "142 ns ± 1.13 ns per loop (mean ± std. dev. of 7 runs, 10000000 loops each)\n"
     ]
    }
   ],
   "source": [
    "%%timeit\n",
    "car = {\"brand\": \"Ferrari\",\"PS\": 200,\"Year\": 2022,\"restoration\": [\"2024\", \"2026\"],\"rendted\": False}\n",
    "#print(car[\"brand\"])\n",
    "car[\"brand\"]"
   ]
  },
  {
   "cell_type": "code",
   "execution_count": 17,
   "metadata": {},
   "outputs": [
    {
     "ename": "NameError",
     "evalue": "name 'car' is not defined",
     "output_type": "error",
     "traceback": [
      "\u001b[0;31m---------------------------------------------------------------------------\u001b[0m",
      "\u001b[0;31mNameError\u001b[0m                                 Traceback (most recent call last)",
      "\u001b[0;32m<ipython-input-17-7a292ad58646>\u001b[0m in \u001b[0;36m<module>\u001b[0;34m\u001b[0m\n\u001b[0;32m----> 1\u001b[0;31m \u001b[0;32mfor\u001b[0m \u001b[0mkey\u001b[0m\u001b[0;34m,\u001b[0m \u001b[0mvalue\u001b[0m \u001b[0;32min\u001b[0m \u001b[0mcar\u001b[0m\u001b[0;34m.\u001b[0m\u001b[0mitems\u001b[0m\u001b[0;34m(\u001b[0m\u001b[0;34m)\u001b[0m\u001b[0;34m:\u001b[0m\u001b[0;34m\u001b[0m\u001b[0;34m\u001b[0m\u001b[0m\n\u001b[0m\u001b[1;32m      2\u001b[0m     \u001b[0mprint\u001b[0m\u001b[0;34m(\u001b[0m\u001b[0mkey\u001b[0m\u001b[0;34m,\u001b[0m \u001b[0mvalue\u001b[0m\u001b[0;34m)\u001b[0m\u001b[0;34m\u001b[0m\u001b[0;34m\u001b[0m\u001b[0m\n",
      "\u001b[0;31mNameError\u001b[0m: name 'car' is not defined"
     ]
    }
   ],
   "source": [
    "for key, value in car.items():\n",
    "    print(key, value)"
   ]
  },
  {
   "cell_type": "code",
   "execution_count": null,
   "metadata": {},
   "outputs": [
    {
     "name": "stdout",
     "output_type": "stream",
     "text": [
      "{1, 2, 3, 4, 5}\n"
     ]
    }
   ],
   "source": [
    "maus = {1, 1, 1, 2, 3, 3, 3, 4, 4, 4, 4, 4, 4, 4, 4, 4, 5}\n",
    "print(maus)"
   ]
  },
  {
   "cell_type": "code",
   "execution_count": 26,
   "metadata": {},
   "outputs": [
    {
     "name": "stdout",
     "output_type": "stream",
     "text": [
      "False\n",
      "False\n",
      "False\n",
      "True\n"
     ]
    }
   ],
   "source": [
    "def well_formed_matrix(m):\n",
    "\n",
    "    if len(m) < 1:\n",
    "        return False\n",
    "    if len(m[0]) == 0:\n",
    "        return False\n",
    "    for i in range(len(m)-1):\n",
    "        if len(m[i]) != len(m[i+1]):\n",
    "            return False\n",
    "    return True\n",
    "\n",
    "print(well_formed_matrix([[]]))\n",
    "print(well_formed_matrix([[],[]]))\n",
    "print(well_formed_matrix([[1],[1, 2]]))\n",
    "print(well_formed_matrix([[1, 2, 3],[2, 2, 2],[1, 1, 2]]))\n",
    "    "
   ]
  },
  {
   "cell_type": "code",
   "execution_count": 44,
   "metadata": {},
   "outputs": [
    {
     "name": "stdout",
     "output_type": "stream",
     "text": [
      "[[1, 1], [2, 2], [3, 2]]\n"
     ]
    }
   ],
   "source": [
    "def transpose(m):\n",
    "    lst = []\n",
    "    if well_formed_matrix(m):\n",
    "        for i in range(len(m[0])):\n",
    "            row = []\n",
    "                \n",
    "            for j in range(len(m)):\n",
    "                row.append(m[j][i])\n",
    "            lst.append(row)\n",
    "        return lst\n",
    "    return ValueError\n",
    "print(transpose([[1, 2, 3], [1, 2, 2]]))"
   ]
  },
  {
   "cell_type": "code",
   "execution_count": 48,
   "metadata": {},
   "outputs": [
    {
     "data": {
      "text/plain": [
       "[[1, 2], [2, 2], [3, 2]]"
      ]
     },
     "execution_count": 48,
     "metadata": {},
     "output_type": "execute_result"
    }
   ],
   "source": [
    "def transpose(m):\n",
    "    lst = []\n",
    "    if well_formed_matrix(m):\n",
    "        for i in range(len(m[0])):\n",
    "            lst.append([])\n",
    "            for j in range(len(m)):\n",
    "                lst[i].append(m[j][i])\n",
    "        return lst\n",
    "    return ValueError\n",
    "transpose([[1, 2, 3],[2, 2, 2]])"
   ]
  },
  {
   "cell_type": "markdown",
   "metadata": {},
   "source": [
    "# Aufgabe 9"
   ]
  },
  {
   "cell_type": "code",
   "execution_count": 186,
   "metadata": {},
   "outputs": [
    {
     "name": "stdout",
     "output_type": "stream",
     "text": [
      "7022\n"
     ]
    }
   ],
   "source": [
    "with open(\"test_matrix_10.txt\") as f:\n",
    "    data = [line.split() for line in f.readlines()][1:]\n"
   ]
  },
  {
   "cell_type": "code",
   "execution_count": 110,
   "metadata": {},
   "outputs": [
    {
     "name": "stdout",
     "output_type": "stream",
     "text": [
      "(2, 3, {(0, 0): 1, (0, 2): 3, (1, 1): 2, (1, 2): 4})\n",
      "(4, 4, {})\n",
      "(1, 1, {(0, 0): 5})\n"
     ]
    }
   ],
   "source": [
    "def as_dict(m):\n",
    "    rows = len(m)\n",
    "    cols = len(m[0])\n",
    "    d = {}\n",
    "    for i in range(len(m)):\n",
    "        for j in range(len(m[i])):\n",
    "            if m[i][j] != 0:\n",
    "                d[i, j] = m[i][j]\n",
    "    return (rows, cols, d)\n",
    "print(as_dict([[1, 0, 3],[0, 2, 4]]))\n",
    "print(as_dict([[0,0,0,0],[0,0,0,0],[0,0,0,0],[0,0,0,0]]))\n",
    "print(as_dict([[5]]))"
   ]
  },
  {
   "cell_type": "code",
   "execution_count": 129,
   "metadata": {},
   "outputs": [
    {
     "name": "stdout",
     "output_type": "stream",
     "text": [
      "{1: 6, 2: 7, 3: 8, 4: 9, 5: 100}\n"
     ]
    }
   ],
   "source": [
    "k = [1, 2, 3, 4, 5]\n",
    "v = [6, 7, 8, 9, 100]\n",
    "d = {}\n",
    "\n",
    "for i in range(len(k)):\n",
    "    d[k[i]] = v[i]\n",
    "\n",
    "print(d)"
   ]
  },
  {
   "cell_type": "code",
   "execution_count": 216,
   "metadata": {},
   "outputs": [],
   "source": [
    "import random \n",
    "def heuristic(lst):\n",
    "    return [(x, lst.count(x)) for x in set(lst)]"
   ]
  },
  {
   "cell_type": "code",
   "execution_count": 221,
   "metadata": {},
   "outputs": [
    {
     "name": "stdout",
     "output_type": "stream",
     "text": [
      "[(0, 5), (1, 5)]\n"
     ]
    }
   ],
   "source": [
    "def heuristic_test(n):\n",
    "    lst = [random.randint(0, n//10) for _ in range(n)]\n",
    "    print(heuristic(lst))\n",
    "heuristic_test(10)\n",
    "\n",
    "\n"
   ]
  },
  {
   "cell_type": "code",
   "execution_count": 232,
   "metadata": {},
   "outputs": [
    {
     "name": "stdout",
     "output_type": "stream",
     "text": [
      "[(1, 1), (2, 1), (3, 3), (4, 1), (55, 1), (5, 6), (6, 1)]\n"
     ]
    }
   ],
   "source": [
    "def heuristic(lst):\n",
    "    d = {}\n",
    "    for i in lst:\n",
    "        if i in d:\n",
    "            d[i] += 1\n",
    "        else:\n",
    "            d[i] = 1\n",
    "    return [(i, d[i]) for i in d]\n",
    "print(heuristic([1, 2, 3, 3, 3, 4, 55, 5, 5, 5, 5, 5, 5, 6]))\n"
   ]
  },
  {
   "cell_type": "code",
   "execution_count": 236,
   "metadata": {},
   "outputs": [
    {
     "name": "stdout",
     "output_type": "stream",
     "text": [
      "[(2, 11), (3, 12), (5, 9), (9, 8), (0, 14), (8, 7), (6, 7), (4, 9), (1, 7), (10, 7), (7, 9)]\n"
     ]
    }
   ],
   "source": [
    "def heuristic_test(n):\n",
    "    lst = [random.randint(0, n//10) for _ in range(n)]\n",
    "    print(heuristic(lst))\n",
    "heuristic_test(100)"
   ]
  },
  {
   "cell_type": "code",
   "execution_count": 237,
   "metadata": {},
   "outputs": [
    {
     "data": {
      "text/plain": [
       "[(1, 1), (2, 3), (4, 1)]"
      ]
     },
     "execution_count": 237,
     "metadata": {},
     "output_type": "execute_result"
    }
   ],
   "source": [
    "def heuristic(lst):\n",
    "    d = {}\n",
    "    for i in lst:\n",
    "        if i in d:\n",
    "            d[i] += 1\n",
    "        else:\n",
    "            d[i] = 1\n",
    "    return [(i, d[i]) for i in d]\n",
    "heuristic([1, 2, 2, 2, 4])"
   ]
  },
  {
   "cell_type": "code",
   "execution_count": null,
   "metadata": {},
   "outputs": [],
   "source": []
  }
 ],
 "metadata": {
  "kernelspec": {
   "display_name": "Python 3.8.8 ('base')",
   "language": "python",
   "name": "python3"
  },
  "language_info": {
   "codemirror_mode": {
    "name": "ipython",
    "version": 3
   },
   "file_extension": ".py",
   "mimetype": "text/x-python",
   "name": "python",
   "nbconvert_exporter": "python",
   "pygments_lexer": "ipython3",
   "version": "3.8.8 (default, Apr 13 2021, 12:59:45) \n[Clang 10.0.0 ]"
  },
  "orig_nbformat": 4,
  "vscode": {
   "interpreter": {
    "hash": "ac487868ec6f1a057d0198a4218906d033f5249dd10b04ce45895ac7f11b9e95"
   }
  }
 },
 "nbformat": 4,
 "nbformat_minor": 2
}
