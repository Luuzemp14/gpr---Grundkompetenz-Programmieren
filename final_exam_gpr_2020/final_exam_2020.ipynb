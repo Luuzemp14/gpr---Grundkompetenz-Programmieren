{
 "cells": [
  {
   "attachments": {},
   "cell_type": "markdown",
   "metadata": {},
   "source": [
    "# MSP 2020 GPR"
   ]
  },
  {
   "attachments": {},
   "cell_type": "markdown",
   "metadata": {},
   "source": [
    "## Aufgabe 1\n",
    "\n",
    "### a)"
   ]
  },
  {
   "cell_type": "code",
   "execution_count": 2,
   "metadata": {},
   "outputs": [
    {
     "name": "stdout",
     "output_type": "stream",
     "text": [
      "3 5\n"
     ]
    }
   ],
   "source": [
    "s = 0\n",
    "sq = s\n",
    "for i in range(3):\n",
    "    s, sq = s + i, sq + i * i\n",
    "print(s, sq)"
   ]
  },
  {
   "attachments": {},
   "cell_type": "markdown",
   "metadata": {},
   "source": [
    "### b)"
   ]
  },
  {
   "cell_type": "code",
   "execution_count": 4,
   "metadata": {},
   "outputs": [
    {
     "name": "stdout",
     "output_type": "stream",
     "text": [
      "1 2 2\n"
     ]
    }
   ],
   "source": [
    "def fun(a, b, c):\n",
    "    a = b + c\n",
    "    b = 0\n",
    "    return a - c\n",
    "\n",
    "\n",
    "a, b, c = 1, 2, 3\n",
    "c = fun(a, b, c)\n",
    "print(a, b, c)"
   ]
  },
  {
   "attachments": {},
   "cell_type": "markdown",
   "metadata": {},
   "source": [
    "### c)"
   ]
  },
  {
   "cell_type": "code",
   "execution_count": 10,
   "metadata": {},
   "outputs": [
    {
     "name": "stdout",
     "output_type": "stream",
     "text": [
      "[[1, 2, 3], [4, 5], [6, 1]]\n",
      "[0, 5]\n",
      "[[0, 5], [6, 1]]\n"
     ]
    }
   ],
   "source": [
    "lst = [[1, 2, 3], [4, 5], [6]]\n",
    "lst[2].append(len(lst[-1]))\n",
    "print(lst)\n",
    "\n",
    "l2 = lst[1]\n",
    "l2[0] = 0\n",
    "del lst[0]\n",
    "print(l2)\n",
    "\n",
    "print(lst)"
   ]
  },
  {
   "attachments": {},
   "cell_type": "markdown",
   "metadata": {},
   "source": [
    "### d)"
   ]
  },
  {
   "cell_type": "code",
   "execution_count": 11,
   "metadata": {},
   "outputs": [
    {
     "name": "stdout",
     "output_type": "stream",
     "text": [
      "False\n",
      "True\n"
     ]
    }
   ],
   "source": [
    "x = 5 ** 2 + 1\n",
    "print(x < 20 or x > 30)\n",
    "\n",
    "print((x < 20) == (x > 30))"
   ]
  },
  {
   "attachments": {},
   "cell_type": "markdown",
   "metadata": {},
   "source": [
    "## Aufgabe 2: List comprehension\n",
    "\n",
    "### a)"
   ]
  },
  {
   "cell_type": "code",
   "execution_count": 24,
   "metadata": {},
   "outputs": [
    {
     "name": "stdout",
     "output_type": "stream",
     "text": [
      "[0, 3, 6, 9]\n",
      "[0, 3, 6, 9]\n"
     ]
    }
   ],
   "source": [
    "# Normal\n",
    "\n",
    "lst = []\n",
    "n = 10\n",
    "for x in range(n):\n",
    "    if x % 3 == 0:\n",
    "        lst.append(x)\n",
    "\n",
    "print(lst)\n",
    "\n",
    "# Test List comprehension\n",
    "lst_comp = [x for x in range(10) if x % 3 == 0]\n",
    "print(lst_comp)"
   ]
  },
  {
   "attachments": {},
   "cell_type": "markdown",
   "metadata": {},
   "source": [
    "### b)"
   ]
  },
  {
   "cell_type": "code",
   "execution_count": 23,
   "metadata": {},
   "outputs": [
    {
     "name": "stdout",
     "output_type": "stream",
     "text": [
      "[0, 1, 8, 27, 64, 125, 216, 343, 512, 729, 1000, 1331, 1728, 2197, 2744, 3375, 4096, 4913, 5832, 6859]\n",
      "[0, 1, 8, 27, 64, 125, 216, 343, 512, 729, 1000, 1331, 1728, 2197, 2744, 3375, 4096, 4913, 5832, 6859]\n"
     ]
    }
   ],
   "source": [
    "# normal\n",
    "lst = []\n",
    "n = 20\n",
    "for x in range(n):\n",
    "    lst.append(x ** 3)\n",
    "print(lst)\n",
    "\n",
    "# Test List comprehension\n",
    "lst_comp = [x ** 3 for x in range(n)]\n",
    "print(lst_comp)"
   ]
  },
  {
   "attachments": {},
   "cell_type": "markdown",
   "metadata": {},
   "source": [
    "## Aufgabe 3: Nächste Primzahl\n"
   ]
  },
  {
   "cell_type": "code",
   "execution_count": 62,
   "metadata": {},
   "outputs": [
    {
     "name": "stdout",
     "output_type": "stream",
     "text": [
      "True\n"
     ]
    }
   ],
   "source": [
    "# erstelle Funktion is_prime um Aufgabe 3 zu prüfen\n",
    "def is_prime(n):\n",
    "    if n < 2:\n",
    "        return False\n",
    "    for x in range(2, int(n ** 0.5) + 1):\n",
    "        if n % x == 0:\n",
    "            return False\n",
    "    return True\n",
    "\n",
    "\n",
    "print(is_prime(47))"
   ]
  },
  {
   "cell_type": "code",
   "execution_count": 56,
   "metadata": {},
   "outputs": [
    {
     "data": {
      "text/plain": [
       "3"
      ]
     },
     "execution_count": 56,
     "metadata": {},
     "output_type": "execute_result"
    }
   ],
   "source": [
    "# Next prime funktion\n",
    "def next_prime(n):\n",
    "    n += 1\n",
    "    while not is_prime(n):\n",
    "        n += 1\n",
    "    return n\n",
    "\n",
    "\n",
    "next_prime(2)"
   ]
  },
  {
   "attachments": {},
   "cell_type": "markdown",
   "metadata": {},
   "source": [
    "### b)"
   ]
  },
  {
   "cell_type": "code",
   "execution_count": 108,
   "metadata": {},
   "outputs": [
    {
     "name": "stdout",
     "output_type": "stream",
     "text": [
      "(3, 5)\n",
      "(1021, 1031)\n"
     ]
    }
   ],
   "source": [
    "# create a function prime_dist(start, dist) which returns the first pair of primes with a distance of minimum dist.\n",
    "\n",
    "\n",
    "def prime_dist(start, dist):\n",
    "    if not is_prime(start):\n",
    "        start = next_prime(start)\n",
    "    next = next_prime(start)\n",
    "    while next - start < dist and (next < start * 10):\n",
    "        start = next\n",
    "        next = next_prime(start)\n",
    "    return (start, next)\n",
    "\n",
    "\n",
    "print(prime_dist(2, 2))\n",
    "print(prime_dist(1000, 10))"
   ]
  },
  {
   "attachments": {},
   "cell_type": "markdown",
   "metadata": {},
   "source": [
    "## Aufgabe 4): Game of Life\n",
    "\n",
    "### funktion Living_neighbours"
   ]
  },
  {
   "cell_type": "code",
   "execution_count": 16,
   "metadata": {},
   "outputs": [
    {
     "name": "stdout",
     "output_type": "stream",
     "text": [
      "..........\n",
      "..#.###...\n",
      ".....###..\n",
      "......###.\n",
      ".......##.\n",
      "..........\n",
      "1\n",
      "2\n",
      "0\n",
      "0\n"
     ]
    }
   ],
   "source": [
    "def count_neighbours(grid, row, col):\n",
    "    \"\"\"game of live, returns number of neighbours\"\"\"\n",
    "    neighbours = \"\"\n",
    "\n",
    "    if row > 0:\n",
    "        neighbours += grid[row - 1][col]\n",
    "    if row + 1 < len(grid):\n",
    "        neighbours += grid[row + 1][col]\n",
    "    if col > 0:\n",
    "        neighbours += grid[row][col - 1]\n",
    "    if col + 1 < len(grid[row]):\n",
    "        neighbours += grid[row][col + 1]\n",
    "    return neighbours.count(\"#\")\n",
    "\n",
    "\n",
    "def step(grid):\n",
    "    new_grid = []\n",
    "    for row in range(len(grid)):\n",
    "        line = ''\n",
    "        for col in range(len(grid[row])):\n",
    "            n = count_neighbours(grid, row, col)\n",
    "            if (grid[row][col] == '#'\n",
    "                    and 2 <= n <= 3\n",
    "                    or\n",
    "                    grid[row][col] == '.'\n",
    "                    and n == 2):\n",
    "                line += '#'\n",
    "            else:\n",
    "                line += '.'\n",
    "        new_grid.append(line)\n",
    "    return new_grid\n",
    "\n",
    "\n",
    "grid = ['..........', '.###.##...', '.....##...', '.......##.', '.......##.',\n",
    "        '..........']\n",
    "\n",
    "for line in step(grid):\n",
    "    print(line)\n",
    "\n",
    "print(count_neighbours(grid, 1, 1))\n",
    "print(count_neighbours(grid, 1, 2))\n",
    "print(count_neighbours(grid, 3, 1))\n",
    "print(count_neighbours(grid, 1, 9))\n"
   ]
  },
  {
   "cell_type": "code",
   "execution_count": 153,
   "metadata": {},
   "outputs": [
    {
     "name": "stdout",
     "output_type": "stream",
     "text": [
      "1\n",
      "2\n",
      "0\n",
      "1\n"
     ]
    }
   ],
   "source": [
    "grid = ['..........', '.###.##...', '.....###...', '.......##.', '.......##.',\n",
    "        '..........']\n",
    "\n",
    "\n",
    "def living_neighbours(grid, row, col):\n",
    "    cnt = 0\n",
    "\n",
    "    # prüfe oben\n",
    "    if row > 0 and grid[row - 1][col] == \"#\":\n",
    "        cnt += 1\n",
    "\n",
    "    # prüfe untern\n",
    "    if row < len(grid) - 1 and grid[row + 1][col] == \"#\":\n",
    "        cnt += 1\n",
    "\n",
    "    # prüfe links\n",
    "    if col > 0 and grid[row][col - 1] == \"#\":\n",
    "        cnt += 1\n",
    "\n",
    "    # prüfe rechts\n",
    "    if col < len(grid[row]) - 1 and grid[row][col + 1] == \"#\":\n",
    "        cnt += 1\n",
    "\n",
    "    return cnt\n",
    "\n",
    "\n",
    "print(living_neighbours(grid, 0, 1))\n",
    "print(living_neighbours(grid, 1, 2))\n",
    "print(living_neighbours(grid, 3, 1))\n",
    "print(living_neighbours(grid, 3, 9))\n",
    "\n",
    "# Korrekt!\n"
   ]
  },
  {
   "attachments": {},
   "cell_type": "markdown",
   "metadata": {},
   "source": [
    "# b) step(grid)"
   ]
  },
  {
   "cell_type": "code",
   "execution_count": 83,
   "metadata": {},
   "outputs": [
    {
     "ename": "IndexError",
     "evalue": "string index out of range",
     "output_type": "error",
     "traceback": [
      "\u001B[0;31m---------------------------------------------------------------------------\u001B[0m",
      "\u001B[0;31mIndexError\u001B[0m                                Traceback (most recent call last)",
      "\u001B[1;32m/Users/luuzemp14/01 -- FHNW - Data Science/3. Semester/03_gpr - Grundkompetenz Programmieren/final_exam_gpr_2020/final_exam_2020.ipynb Zelle 24\u001B[0m in \u001B[0;36m<cell line: 16>\u001B[0;34m()\u001B[0m\n\u001B[1;32m     <a href='vscode-notebook-cell:/Users/luuzemp14/01%20--%20FHNW%20-%20Data%20Science/3.%20Semester/03_gpr%20-%20Grundkompetenz%20Programmieren/final_exam_gpr_2020/final_exam_2020.ipynb#X31sZmlsZQ%3D%3D?line=12'>13</a>\u001B[0m         new_grid\u001B[39m.\u001B[39mappend(line)\n\u001B[1;32m     <a href='vscode-notebook-cell:/Users/luuzemp14/01%20--%20FHNW%20-%20Data%20Science/3.%20Semester/03_gpr%20-%20Grundkompetenz%20Programmieren/final_exam_gpr_2020/final_exam_2020.ipynb#X31sZmlsZQ%3D%3D?line=13'>14</a>\u001B[0m     \u001B[39mreturn\u001B[39;00m new_grid\n\u001B[0;32m---> <a href='vscode-notebook-cell:/Users/luuzemp14/01%20--%20FHNW%20-%20Data%20Science/3.%20Semester/03_gpr%20-%20Grundkompetenz%20Programmieren/final_exam_gpr_2020/final_exam_2020.ipynb#X31sZmlsZQ%3D%3D?line=15'>16</a>\u001B[0m step(grid)\n",
      "\u001B[1;32m/Users/luuzemp14/01 -- FHNW - Data Science/3. Semester/03_gpr - Grundkompetenz Programmieren/final_exam_gpr_2020/final_exam_2020.ipynb Zelle 24\u001B[0m in \u001B[0;36mstep\u001B[0;34m(grid)\u001B[0m\n\u001B[1;32m      <a href='vscode-notebook-cell:/Users/luuzemp14/01%20--%20FHNW%20-%20Data%20Science/3.%20Semester/03_gpr%20-%20Grundkompetenz%20Programmieren/final_exam_gpr_2020/final_exam_2020.ipynb#X31sZmlsZQ%3D%3D?line=4'>5</a>\u001B[0m line \u001B[39m=\u001B[39m []\n\u001B[1;32m      <a href='vscode-notebook-cell:/Users/luuzemp14/01%20--%20FHNW%20-%20Data%20Science/3.%20Semester/03_gpr%20-%20Grundkompetenz%20Programmieren/final_exam_gpr_2020/final_exam_2020.ipynb#X31sZmlsZQ%3D%3D?line=5'>6</a>\u001B[0m \u001B[39mfor\u001B[39;00m j \u001B[39min\u001B[39;00m \u001B[39mrange\u001B[39m(\u001B[39mlen\u001B[39m(grid[i])):\n\u001B[0;32m----> <a href='vscode-notebook-cell:/Users/luuzemp14/01%20--%20FHNW%20-%20Data%20Science/3.%20Semester/03_gpr%20-%20Grundkompetenz%20Programmieren/final_exam_gpr_2020/final_exam_2020.ipynb#X31sZmlsZQ%3D%3D?line=6'>7</a>\u001B[0m     \u001B[39mif\u001B[39;00m grid[i][j] \u001B[39m==\u001B[39m \u001B[39m\"\u001B[39m\u001B[39m.\u001B[39m\u001B[39m\"\u001B[39m \u001B[39mand\u001B[39;00m living_neighbours(grid, i, j) \u001B[39m==\u001B[39m \u001B[39m2\u001B[39m:\n\u001B[1;32m      <a href='vscode-notebook-cell:/Users/luuzemp14/01%20--%20FHNW%20-%20Data%20Science/3.%20Semester/03_gpr%20-%20Grundkompetenz%20Programmieren/final_exam_gpr_2020/final_exam_2020.ipynb#X31sZmlsZQ%3D%3D?line=7'>8</a>\u001B[0m         line\u001B[39m.\u001B[39mappend(\u001B[39m\"\u001B[39m\u001B[39m#\u001B[39m\u001B[39m\"\u001B[39m)\n\u001B[1;32m      <a href='vscode-notebook-cell:/Users/luuzemp14/01%20--%20FHNW%20-%20Data%20Science/3.%20Semester/03_gpr%20-%20Grundkompetenz%20Programmieren/final_exam_gpr_2020/final_exam_2020.ipynb#X31sZmlsZQ%3D%3D?line=8'>9</a>\u001B[0m     \u001B[39mif\u001B[39;00m grid[i][j] \u001B[39m==\u001B[39m \u001B[39m\"\u001B[39m\u001B[39m#\u001B[39m\u001B[39m\"\u001B[39m \u001B[39mand\u001B[39;00m (living_neighbours(grid, i, j) \u001B[39m>\u001B[39m \u001B[39m3\u001B[39m \u001B[39mor\u001B[39;00m living_neighbours(grid, i, j) \u001B[39m<\u001B[39m \u001B[39m2\u001B[39m):\n",
      "\u001B[1;32m/Users/luuzemp14/01 -- FHNW - Data Science/3. Semester/03_gpr - Grundkompetenz Programmieren/final_exam_gpr_2020/final_exam_2020.ipynb Zelle 24\u001B[0m in \u001B[0;36mliving_neighbours\u001B[0;34m(grid, row, col)\u001B[0m\n\u001B[1;32m     <a href='vscode-notebook-cell:/Users/luuzemp14/01%20--%20FHNW%20-%20Data%20Science/3.%20Semester/03_gpr%20-%20Grundkompetenz%20Programmieren/final_exam_gpr_2020/final_exam_2020.ipynb#X31sZmlsZQ%3D%3D?line=15'>16</a>\u001B[0m     cnt \u001B[39m+\u001B[39m\u001B[39m=\u001B[39m \u001B[39m1\u001B[39m\n\u001B[1;32m     <a href='vscode-notebook-cell:/Users/luuzemp14/01%20--%20FHNW%20-%20Data%20Science/3.%20Semester/03_gpr%20-%20Grundkompetenz%20Programmieren/final_exam_gpr_2020/final_exam_2020.ipynb#X31sZmlsZQ%3D%3D?line=17'>18</a>\u001B[0m \u001B[39m# prüfe rechts\u001B[39;00m\n\u001B[0;32m---> <a href='vscode-notebook-cell:/Users/luuzemp14/01%20--%20FHNW%20-%20Data%20Science/3.%20Semester/03_gpr%20-%20Grundkompetenz%20Programmieren/final_exam_gpr_2020/final_exam_2020.ipynb#X31sZmlsZQ%3D%3D?line=18'>19</a>\u001B[0m \u001B[39mif\u001B[39;00m col \u001B[39m<\u001B[39m \u001B[39mlen\u001B[39m(grid[row]) \u001B[39mand\u001B[39;00m grid[row][col\u001B[39m+\u001B[39;49m\u001B[39m1\u001B[39;49m] \u001B[39m==\u001B[39m \u001B[39m\"\u001B[39m\u001B[39m#\u001B[39m\u001B[39m\"\u001B[39m:\n\u001B[1;32m     <a href='vscode-notebook-cell:/Users/luuzemp14/01%20--%20FHNW%20-%20Data%20Science/3.%20Semester/03_gpr%20-%20Grundkompetenz%20Programmieren/final_exam_gpr_2020/final_exam_2020.ipynb#X31sZmlsZQ%3D%3D?line=19'>20</a>\u001B[0m     cnt \u001B[39m+\u001B[39m\u001B[39m=\u001B[39m \u001B[39m1\u001B[39m\n\u001B[1;32m     <a href='vscode-notebook-cell:/Users/luuzemp14/01%20--%20FHNW%20-%20Data%20Science/3.%20Semester/03_gpr%20-%20Grundkompetenz%20Programmieren/final_exam_gpr_2020/final_exam_2020.ipynb#X31sZmlsZQ%3D%3D?line=22'>23</a>\u001B[0m \u001B[39mreturn\u001B[39;00m cnt\n",
      "\u001B[0;31mIndexError\u001B[0m: string index out of range"
     ]
    }
   ],
   "source": [
    "def step(grid):\n",
    "    new_grid = []\n",
    "    for row in range(len(grid) - 1):\n",
    "        for col in range(len(grid[row]) - 1):\n",
    "            if grid[row][col] == \".\" and living_neighbours(grid, row, col) == 2:\n",
    "                new_grid.append(\"#\")\n",
    "            if grid[row][col] == \"#\" and (\n",
    "                    living_neighbours(grid, row, col) < 2 or living_neighbours(\n",
    "                    grid, row, col) > 3):\n",
    "                new_grid.append(\".\")\n",
    "            if grid[row][col] == \"#\" and (\n",
    "                    living_neighbours(grid, row, col) == 2 or living_neighbours(\n",
    "                    grid, row, col) == 3):\n",
    "                new_grid.append(\"#\")\n",
    "            else:\n",
    "                new_grid.append(grid[row][col])\n",
    "    return new_grid\n",
    "\n",
    "\n",
    "print(step(grid))\n"
   ]
  },
  {
   "attachments": {},
   "cell_type": "markdown",
   "metadata": {},
   "source": [
    "## Aufgabe 5: IoT Data Check\n",
    "\n",
    "### a)"
   ]
  },
  {
   "cell_type": "code",
   "execution_count": 17,
   "metadata": {},
   "outputs": [
    {
     "name": "stdout",
     "output_type": "stream",
     "text": [
      "True\n",
      "True\n",
      "False\n",
      "False\n",
      "True\n",
      "True\n"
     ]
    }
   ],
   "source": [
    "def is_ok(temp, status):\n",
    "    if status == \"ok\" and temp >= -10 and temp < 45:\n",
    "        return True\n",
    "    if status == \"off\" and temp == 0:\n",
    "        return True\n",
    "    if status == \"fault\":\n",
    "        return True\n",
    "    return False\n",
    "\n",
    "\n",
    "print(is_ok(30, \"ok\"))\n",
    "print(is_ok(-10, \"ok\"))\n",
    "print(is_ok(-11, \"ok\"))\n",
    "print(is_ok(-11, \"off\"))\n",
    "print(is_ok(0, \"off\"))\n",
    "print(is_ok(90, \"fault\"))\n",
    "\n",
    "# Korrekt!"
   ]
  },
  {
   "attachments": {},
   "cell_type": "markdown",
   "metadata": {},
   "source": [
    "### b)"
   ]
  },
  {
   "cell_type": "code",
   "execution_count": 28,
   "metadata": {},
   "outputs": [
    {
     "name": "stdout",
     "output_type": "stream",
     "text": [
      "3\n"
     ]
    }
   ],
   "source": [
    "# Aufgabe 5b\n",
    "def count_errors(file_name):\n",
    "    with open(file_name) as file:\n",
    "        cnt = 0\n",
    "        for l in file:\n",
    "            temp, status = l.strip().split(', ')[2:4]\n",
    "            if not is_ok(int(temp), status):\n",
    "                cnt += 1\n",
    "        return cnt\n",
    "\n",
    "print(count_errors(\"5.txt\"))"
   ]
  },
  {
   "cell_type": "code",
   "execution_count": 26,
   "metadata": {},
   "outputs": [
    {
     "name": "stdout",
     "output_type": "stream",
     "text": [
      "3\n"
     ]
    }
   ],
   "source": [
    "# Aufgabe 5b\n",
    "def count_errors(file_name):\n",
    "    with open(file_name) as f:\n",
    "        lst = [x.split() for x in f]\n",
    "        cnt = 0\n",
    "        for x in lst:\n",
    "            if not is_ok(int(x[2][:-1]), x[3]):\n",
    "                cnt += 1\n",
    "        return cnt\n",
    "\n",
    "\n",
    "print(count_errors(\"text.txt\"))"
   ]
  },
  {
   "attachments": {},
   "cell_type": "markdown",
   "metadata": {},
   "source": [
    "## Aufgabe 6: Einkaufsstatistik\n",
    "\n",
    "### a) Welche Datenstruktur würdest du verwenden und wieso:\n",
    "\n",
    "Ich würde ein Dictionary verwenden, da ich mit dem Key, \"costumer\" direkt zugriff auf alle Items in diesem Key habe. "
   ]
  },
  {
   "attachments": {},
   "cell_type": "markdown",
   "metadata": {},
   "source": [
    "### b) collect_sales_data(file_name, customer_no)"
   ]
  },
  {
   "cell_type": "code",
   "execution_count": 25,
   "metadata": {},
   "outputs": [
    {
     "name": "stdout",
     "output_type": "stream",
     "text": [
      "Auftrag\\tDatum\\tKunde\\tArtikel\\tStk-Preis\\tAnzahl\\tBezahldatum\\tLieferdatum\\t\n",
      "\n",
      "['Auftrag', 'Datum', 'Kunde', 'Artikel', 'Stk-Preis', 'Anzahl', 'Bezahldatum', 'Lieferdatum']\n",
      "Auftrag\n",
      "['0815', '23.4.2020', '12345', '50000', '32.45', '1', '23.4.2020', '27.4.2020']\n"
     ]
    }
   ],
   "source": [
    "with open(\"Aufgabe_6.txt\") as f:\n",
    "    head = f.readline()\n",
    "    new_head = head.split(\"\\\\t\")[:-1]\n",
    "    print(head)\n",
    "    print(new_head)\n",
    "    print(new_head[0])\n",
    "\n",
    "    data = [x.split(\"\\\\t\")[:-1] for x in f.readlines()]\n",
    "\n",
    "    print(data[0])\n",
    "\n"
   ]
  },
  {
   "cell_type": "code",
   "execution_count": null,
   "metadata": {},
   "outputs": [],
   "source": []
  }
 ],
 "metadata": {
  "kernelspec": {
   "display_name": "Python 3",
   "language": "python",
   "name": "python3"
  },
  "language_info": {
   "codemirror_mode": {
    "name": "ipython",
    "version": 3
   },
   "file_extension": ".py",
   "mimetype": "text/x-python",
   "name": "python",
   "nbconvert_exporter": "python",
   "pygments_lexer": "ipython3",
   "version": "3.9.7"
  },
  "orig_nbformat": 4,
  "vscode": {
   "interpreter": {
    "hash": "aee8b7b246df8f9039afb4144a1f6fd8d2ca17a180786b69acc140d282b71a49"
   }
  }
 },
 "nbformat": 4,
 "nbformat_minor": 2
}
